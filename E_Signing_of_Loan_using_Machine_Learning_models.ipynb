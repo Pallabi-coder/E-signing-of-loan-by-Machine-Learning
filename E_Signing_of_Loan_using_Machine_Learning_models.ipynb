{
  "nbformat": 4,
  "nbformat_minor": 0,
  "metadata": {
    "kernelspec": {
      "display_name": "Python 3",
      "language": "python",
      "name": "python3"
    },
    "language_info": {
      "codemirror_mode": {
        "name": "ipython",
        "version": 3
      },
      "file_extension": ".py",
      "mimetype": "text/x-python",
      "name": "python",
      "nbconvert_exporter": "python",
      "pygments_lexer": "ipython3",
      "version": "3.7.3"
    },
    "colab": {
      "name": "E-Signing of Loan using Machine Learning models.ipynb",
      "provenance": []
    },
    "accelerator": "GPU"
  },
  "cells": [
    {
      "cell_type": "markdown",
      "metadata": {
        "id": "lbzgdE7jdOI6"
      },
      "source": [
        "<center><h1>E-Signing of Loan using  Machine Learning</h1></center>"
      ]
    },
    {
      "cell_type": "markdown",
      "metadata": {
        "id": "ojB8QifhdOJE"
      },
      "source": [
        "<h4>ESignature:</h4>\n",
        "<br>\n",
        "<p style=\"text-indent:5em\">Electronic signatures aren’t exactly a novelty. They have been around since the American Civil War, during which contracts were signed through Morse. In a modern setting, an e-Sign refers to a unique, digitised, encrypted personal identifier. This is, in essence, different from the ‘wet’ signatures created by hand. The e-Sign is meant to complete transactions, loops, and agreements electronically.</p>\n",
        "\n",
        "<p style=\"text-indent:5em\">In India, the e-Sign has been granted legal status by amendments to various laws, namely the Information Technology Act, Indian Evidence Act and the Negotiable Instruments Act. Early adopters in the financial sector have started using e-Sign to get customers to sign loan and card applications, and loan agreements.</p>\n",
        "\n",
        "\n",
        "\n"
      ]
    },
    {
      "cell_type": "code",
      "metadata": {
        "colab": {
          "base_uri": "https://localhost:8080/",
          "height": 35
        },
        "id": "ZLB-FHqHdYel",
        "outputId": "ccd0f6f0-6029-4031-c83f-abe4b0c67471"
      },
      "source": [
        "import tensorflow as tf\n",
        "\n",
        "tf.test.gpu_device_name()"
      ],
      "execution_count": null,
      "outputs": [
        {
          "output_type": "execute_result",
          "data": {
            "application/vnd.google.colaboratory.intrinsic+json": {
              "type": "string"
            },
            "text/plain": [
              "'/device:GPU:0'"
            ]
          },
          "metadata": {
            "tags": []
          },
          "execution_count": 1
        }
      ]
    },
    {
      "cell_type": "code",
      "metadata": {
        "colab": {
          "base_uri": "https://localhost:8080/"
        },
        "id": "UPp4SzQ0d42J",
        "outputId": "c4abf810-7b9b-4821-b599-56ffbfcdbfc3"
      },
      "source": [
        "from tensorflow.python.client import device_lib \n",
        "device_lib.list_local_devices()"
      ],
      "execution_count": null,
      "outputs": [
        {
          "output_type": "execute_result",
          "data": {
            "text/plain": [
              "[name: \"/device:CPU:0\"\n",
              " device_type: \"CPU\"\n",
              " memory_limit: 268435456\n",
              " locality {\n",
              " }\n",
              " incarnation: 7986429717833634240, name: \"/device:GPU:0\"\n",
              " device_type: \"GPU\"\n",
              " memory_limit: 14674281152\n",
              " locality {\n",
              "   bus_id: 1\n",
              "   links {\n",
              "   }\n",
              " }\n",
              " incarnation: 5906531531928797080\n",
              " physical_device_desc: \"device: 0, name: Tesla T4, pci bus id: 0000:00:04.0, compute capability: 7.5\"]"
            ]
          },
          "metadata": {
            "tags": []
          },
          "execution_count": 2
        }
      ]
    },
    {
      "cell_type": "markdown",
      "metadata": {
        "id": "9IQMs3AmdOJG"
      },
      "source": [
        "### Importing the Library"
      ]
    },
    {
      "cell_type": "code",
      "metadata": {
        "id": "zpYvyGmmdOJH"
      },
      "source": [
        "#importing library for reading, writing and perform basic operations\n",
        "import pandas as pd\n",
        "import numpy as np\n",
        "\n",
        "#Importing library for Visualization\n",
        "import matplotlib.pyplot as plt\n",
        "import seaborn as sns\n",
        "%matplotlib inline\n",
        "\n",
        "#Importing the library for evaluating the model\n",
        "from sklearn.metrics import accuracy_score\n",
        "\n",
        "import warnings\n",
        "warnings.filterwarnings(\"ignore\")"
      ],
      "execution_count": null,
      "outputs": []
    },
    {
      "cell_type": "markdown",
      "metadata": {
        "id": "3eSGfZFKdOJJ"
      },
      "source": [
        "### Reading the Data"
      ]
    },
    {
      "cell_type": "code",
      "metadata": {
        "colab": {
          "base_uri": "https://localhost:8080/"
        },
        "id": "HEuu5bCheBdr",
        "outputId": "48e4077c-0a90-425a-a721-6b94eebd7309"
      },
      "source": [
        "!gdown --id 1JuvbJcJ_j2f5mn6V5iadABpC7u1XEg8R"
      ],
      "execution_count": null,
      "outputs": [
        {
          "output_type": "stream",
          "text": [
            "Downloading...\n",
            "From: https://drive.google.com/uc?id=1JuvbJcJ_j2f5mn6V5iadABpC7u1XEg8R\n",
            "To: /content/financial_data.csv\n",
            "\r0.00B [00:00, ?B/s]\r2.33MB [00:00, 74.2MB/s]\n"
          ],
          "name": "stdout"
        }
      ]
    },
    {
      "cell_type": "code",
      "metadata": {
        "id": "svmRNT3EdOJK"
      },
      "source": [
        "data_df=pd.read_csv(\"financial_data.csv\")\n"
      ],
      "execution_count": null,
      "outputs": []
    },
    {
      "cell_type": "markdown",
      "metadata": {
        "id": "jfd5ej2QdOJN"
      },
      "source": [
        "### Exploring the Data"
      ]
    },
    {
      "cell_type": "code",
      "metadata": {
        "colab": {
          "base_uri": "https://localhost:8080/"
        },
        "id": "ZFxGO0z-elDR",
        "outputId": "609247dc-5d69-40b6-dec3-c8fb9450165d"
      },
      "source": [
        "data_df.columns"
      ],
      "execution_count": null,
      "outputs": [
        {
          "output_type": "execute_result",
          "data": {
            "text/plain": [
              "Index(['entry_id', 'age', 'pay_schedule', 'home_owner', 'income',\n",
              "       'months_employed', 'years_employed', 'current_address_year',\n",
              "       'personal_account_m', 'personal_account_y', 'has_debt',\n",
              "       'amount_requested', 'risk_score', 'risk_score_2', 'risk_score_3',\n",
              "       'risk_score_4', 'risk_score_5', 'ext_quality_score',\n",
              "       'ext_quality_score_2', 'inquiries_last_month', 'e_signed'],\n",
              "      dtype='object')"
            ]
          },
          "metadata": {
            "tags": []
          },
          "execution_count": 9
        }
      ]
    },
    {
      "cell_type": "code",
      "metadata": {
        "colab": {
          "base_uri": "https://localhost:8080/"
        },
        "id": "rbgScE3-epJD",
        "outputId": "dba1f65f-714b-4ffa-df78-dfa840ab68ce"
      },
      "source": [
        "data_df.dtypes"
      ],
      "execution_count": null,
      "outputs": [
        {
          "output_type": "execute_result",
          "data": {
            "text/plain": [
              "entry_id                  int64\n",
              "age                       int64\n",
              "pay_schedule             object\n",
              "home_owner                int64\n",
              "income                    int64\n",
              "months_employed           int64\n",
              "years_employed            int64\n",
              "current_address_year      int64\n",
              "personal_account_m        int64\n",
              "personal_account_y        int64\n",
              "has_debt                  int64\n",
              "amount_requested          int64\n",
              "risk_score                int64\n",
              "risk_score_2            float64\n",
              "risk_score_3            float64\n",
              "risk_score_4            float64\n",
              "risk_score_5            float64\n",
              "ext_quality_score       float64\n",
              "ext_quality_score_2     float64\n",
              "inquiries_last_month      int64\n",
              "e_signed                  int64\n",
              "dtype: object"
            ]
          },
          "metadata": {
            "tags": []
          },
          "execution_count": 13
        }
      ]
    },
    {
      "cell_type": "markdown",
      "metadata": {
        "id": "w_lPD-lPfGYO"
      },
      "source": [
        "><font color=\"blue\"><b>There are 21 features in which one is categorical feature </b></font>"
      ]
    },
    {
      "cell_type": "code",
      "metadata": {
        "colab": {
          "base_uri": "https://localhost:8080/",
          "height": 215
        },
        "id": "KPQT-v3TeaVo",
        "outputId": "7b82f66e-4bcd-4ee6-e130-a539d4dbbf37"
      },
      "source": [
        "data_df.head()"
      ],
      "execution_count": null,
      "outputs": [
        {
          "output_type": "execute_result",
          "data": {
            "text/html": [
              "<div>\n",
              "<style scoped>\n",
              "    .dataframe tbody tr th:only-of-type {\n",
              "        vertical-align: middle;\n",
              "    }\n",
              "\n",
              "    .dataframe tbody tr th {\n",
              "        vertical-align: top;\n",
              "    }\n",
              "\n",
              "    .dataframe thead th {\n",
              "        text-align: right;\n",
              "    }\n",
              "</style>\n",
              "<table border=\"1\" class=\"dataframe\">\n",
              "  <thead>\n",
              "    <tr style=\"text-align: right;\">\n",
              "      <th></th>\n",
              "      <th>entry_id</th>\n",
              "      <th>age</th>\n",
              "      <th>pay_schedule</th>\n",
              "      <th>home_owner</th>\n",
              "      <th>income</th>\n",
              "      <th>months_employed</th>\n",
              "      <th>years_employed</th>\n",
              "      <th>current_address_year</th>\n",
              "      <th>personal_account_m</th>\n",
              "      <th>personal_account_y</th>\n",
              "      <th>has_debt</th>\n",
              "      <th>amount_requested</th>\n",
              "      <th>risk_score</th>\n",
              "      <th>risk_score_2</th>\n",
              "      <th>risk_score_3</th>\n",
              "      <th>risk_score_4</th>\n",
              "      <th>risk_score_5</th>\n",
              "      <th>ext_quality_score</th>\n",
              "      <th>ext_quality_score_2</th>\n",
              "      <th>inquiries_last_month</th>\n",
              "      <th>e_signed</th>\n",
              "    </tr>\n",
              "  </thead>\n",
              "  <tbody>\n",
              "    <tr>\n",
              "      <th>0</th>\n",
              "      <td>7629673</td>\n",
              "      <td>40</td>\n",
              "      <td>bi-weekly</td>\n",
              "      <td>1</td>\n",
              "      <td>3135</td>\n",
              "      <td>0</td>\n",
              "      <td>3</td>\n",
              "      <td>3</td>\n",
              "      <td>6</td>\n",
              "      <td>2</td>\n",
              "      <td>1</td>\n",
              "      <td>550</td>\n",
              "      <td>36200</td>\n",
              "      <td>0.737398</td>\n",
              "      <td>0.903517</td>\n",
              "      <td>0.487712</td>\n",
              "      <td>0.515977</td>\n",
              "      <td>0.580918</td>\n",
              "      <td>0.380918</td>\n",
              "      <td>10</td>\n",
              "      <td>1</td>\n",
              "    </tr>\n",
              "    <tr>\n",
              "      <th>1</th>\n",
              "      <td>3560428</td>\n",
              "      <td>61</td>\n",
              "      <td>weekly</td>\n",
              "      <td>0</td>\n",
              "      <td>3180</td>\n",
              "      <td>0</td>\n",
              "      <td>6</td>\n",
              "      <td>3</td>\n",
              "      <td>2</td>\n",
              "      <td>7</td>\n",
              "      <td>1</td>\n",
              "      <td>600</td>\n",
              "      <td>30150</td>\n",
              "      <td>0.738510</td>\n",
              "      <td>0.881027</td>\n",
              "      <td>0.713423</td>\n",
              "      <td>0.826402</td>\n",
              "      <td>0.730720</td>\n",
              "      <td>0.630720</td>\n",
              "      <td>9</td>\n",
              "      <td>0</td>\n",
              "    </tr>\n",
              "    <tr>\n",
              "      <th>2</th>\n",
              "      <td>6934997</td>\n",
              "      <td>23</td>\n",
              "      <td>weekly</td>\n",
              "      <td>0</td>\n",
              "      <td>1540</td>\n",
              "      <td>6</td>\n",
              "      <td>0</td>\n",
              "      <td>0</td>\n",
              "      <td>7</td>\n",
              "      <td>1</td>\n",
              "      <td>1</td>\n",
              "      <td>450</td>\n",
              "      <td>34550</td>\n",
              "      <td>0.642993</td>\n",
              "      <td>0.766554</td>\n",
              "      <td>0.595018</td>\n",
              "      <td>0.762284</td>\n",
              "      <td>0.531712</td>\n",
              "      <td>0.531712</td>\n",
              "      <td>7</td>\n",
              "      <td>0</td>\n",
              "    </tr>\n",
              "    <tr>\n",
              "      <th>3</th>\n",
              "      <td>5682812</td>\n",
              "      <td>40</td>\n",
              "      <td>bi-weekly</td>\n",
              "      <td>0</td>\n",
              "      <td>5230</td>\n",
              "      <td>0</td>\n",
              "      <td>6</td>\n",
              "      <td>1</td>\n",
              "      <td>2</td>\n",
              "      <td>7</td>\n",
              "      <td>1</td>\n",
              "      <td>700</td>\n",
              "      <td>42150</td>\n",
              "      <td>0.665224</td>\n",
              "      <td>0.960832</td>\n",
              "      <td>0.767828</td>\n",
              "      <td>0.778831</td>\n",
              "      <td>0.792552</td>\n",
              "      <td>0.592552</td>\n",
              "      <td>8</td>\n",
              "      <td>1</td>\n",
              "    </tr>\n",
              "    <tr>\n",
              "      <th>4</th>\n",
              "      <td>5335819</td>\n",
              "      <td>33</td>\n",
              "      <td>semi-monthly</td>\n",
              "      <td>0</td>\n",
              "      <td>3590</td>\n",
              "      <td>0</td>\n",
              "      <td>5</td>\n",
              "      <td>2</td>\n",
              "      <td>2</td>\n",
              "      <td>8</td>\n",
              "      <td>1</td>\n",
              "      <td>1100</td>\n",
              "      <td>53850</td>\n",
              "      <td>0.617361</td>\n",
              "      <td>0.857560</td>\n",
              "      <td>0.613487</td>\n",
              "      <td>0.665523</td>\n",
              "      <td>0.744634</td>\n",
              "      <td>0.744634</td>\n",
              "      <td>12</td>\n",
              "      <td>0</td>\n",
              "    </tr>\n",
              "  </tbody>\n",
              "</table>\n",
              "</div>"
            ],
            "text/plain": [
              "   entry_id  age  ... inquiries_last_month  e_signed\n",
              "0   7629673   40  ...                   10         1\n",
              "1   3560428   61  ...                    9         0\n",
              "2   6934997   23  ...                    7         0\n",
              "3   5682812   40  ...                    8         1\n",
              "4   5335819   33  ...                   12         0\n",
              "\n",
              "[5 rows x 21 columns]"
            ]
          },
          "metadata": {
            "tags": []
          },
          "execution_count": 7
        }
      ]
    },
    {
      "cell_type": "code",
      "metadata": {
        "colab": {
          "base_uri": "https://localhost:8080/",
          "height": 215
        },
        "id": "nlOnY-cXecK5",
        "outputId": "8f3adedf-828e-4711-82ab-6e42e9a28b7f"
      },
      "source": [
        "data_df.tail()"
      ],
      "execution_count": null,
      "outputs": [
        {
          "output_type": "execute_result",
          "data": {
            "text/html": [
              "<div>\n",
              "<style scoped>\n",
              "    .dataframe tbody tr th:only-of-type {\n",
              "        vertical-align: middle;\n",
              "    }\n",
              "\n",
              "    .dataframe tbody tr th {\n",
              "        vertical-align: top;\n",
              "    }\n",
              "\n",
              "    .dataframe thead th {\n",
              "        text-align: right;\n",
              "    }\n",
              "</style>\n",
              "<table border=\"1\" class=\"dataframe\">\n",
              "  <thead>\n",
              "    <tr style=\"text-align: right;\">\n",
              "      <th></th>\n",
              "      <th>entry_id</th>\n",
              "      <th>age</th>\n",
              "      <th>pay_schedule</th>\n",
              "      <th>home_owner</th>\n",
              "      <th>income</th>\n",
              "      <th>months_employed</th>\n",
              "      <th>years_employed</th>\n",
              "      <th>current_address_year</th>\n",
              "      <th>personal_account_m</th>\n",
              "      <th>personal_account_y</th>\n",
              "      <th>has_debt</th>\n",
              "      <th>amount_requested</th>\n",
              "      <th>risk_score</th>\n",
              "      <th>risk_score_2</th>\n",
              "      <th>risk_score_3</th>\n",
              "      <th>risk_score_4</th>\n",
              "      <th>risk_score_5</th>\n",
              "      <th>ext_quality_score</th>\n",
              "      <th>ext_quality_score_2</th>\n",
              "      <th>inquiries_last_month</th>\n",
              "      <th>e_signed</th>\n",
              "    </tr>\n",
              "  </thead>\n",
              "  <tbody>\n",
              "    <tr>\n",
              "      <th>17903</th>\n",
              "      <td>9949728</td>\n",
              "      <td>31</td>\n",
              "      <td>monthly</td>\n",
              "      <td>0</td>\n",
              "      <td>3245</td>\n",
              "      <td>0</td>\n",
              "      <td>5</td>\n",
              "      <td>3</td>\n",
              "      <td>2</td>\n",
              "      <td>6</td>\n",
              "      <td>1</td>\n",
              "      <td>700</td>\n",
              "      <td>71700</td>\n",
              "      <td>0.691126</td>\n",
              "      <td>0.928196</td>\n",
              "      <td>0.664112</td>\n",
              "      <td>0.838012</td>\n",
              "      <td>0.727705</td>\n",
              "      <td>0.627705</td>\n",
              "      <td>2</td>\n",
              "      <td>0</td>\n",
              "    </tr>\n",
              "    <tr>\n",
              "      <th>17904</th>\n",
              "      <td>9442442</td>\n",
              "      <td>46</td>\n",
              "      <td>bi-weekly</td>\n",
              "      <td>0</td>\n",
              "      <td>6525</td>\n",
              "      <td>0</td>\n",
              "      <td>2</td>\n",
              "      <td>1</td>\n",
              "      <td>3</td>\n",
              "      <td>3</td>\n",
              "      <td>1</td>\n",
              "      <td>800</td>\n",
              "      <td>51800</td>\n",
              "      <td>0.648525</td>\n",
              "      <td>0.970832</td>\n",
              "      <td>0.699241</td>\n",
              "      <td>0.844724</td>\n",
              "      <td>0.774918</td>\n",
              "      <td>0.474918</td>\n",
              "      <td>3</td>\n",
              "      <td>0</td>\n",
              "    </tr>\n",
              "    <tr>\n",
              "      <th>17905</th>\n",
              "      <td>9857590</td>\n",
              "      <td>46</td>\n",
              "      <td>weekly</td>\n",
              "      <td>0</td>\n",
              "      <td>2685</td>\n",
              "      <td>0</td>\n",
              "      <td>5</td>\n",
              "      <td>1</td>\n",
              "      <td>1</td>\n",
              "      <td>8</td>\n",
              "      <td>1</td>\n",
              "      <td>1200</td>\n",
              "      <td>59650</td>\n",
              "      <td>0.677975</td>\n",
              "      <td>0.918141</td>\n",
              "      <td>0.687981</td>\n",
              "      <td>0.939101</td>\n",
              "      <td>0.472045</td>\n",
              "      <td>0.672045</td>\n",
              "      <td>9</td>\n",
              "      <td>0</td>\n",
              "    </tr>\n",
              "    <tr>\n",
              "      <th>17906</th>\n",
              "      <td>8708471</td>\n",
              "      <td>42</td>\n",
              "      <td>bi-weekly</td>\n",
              "      <td>0</td>\n",
              "      <td>2515</td>\n",
              "      <td>0</td>\n",
              "      <td>3</td>\n",
              "      <td>5</td>\n",
              "      <td>6</td>\n",
              "      <td>1</td>\n",
              "      <td>1</td>\n",
              "      <td>400</td>\n",
              "      <td>80200</td>\n",
              "      <td>0.642741</td>\n",
              "      <td>0.885684</td>\n",
              "      <td>0.456448</td>\n",
              "      <td>0.686823</td>\n",
              "      <td>0.406568</td>\n",
              "      <td>0.406568</td>\n",
              "      <td>3</td>\n",
              "      <td>1</td>\n",
              "    </tr>\n",
              "    <tr>\n",
              "      <th>17907</th>\n",
              "      <td>1498559</td>\n",
              "      <td>29</td>\n",
              "      <td>weekly</td>\n",
              "      <td>1</td>\n",
              "      <td>2665</td>\n",
              "      <td>0</td>\n",
              "      <td>4</td>\n",
              "      <td>10</td>\n",
              "      <td>4</td>\n",
              "      <td>1</td>\n",
              "      <td>1</td>\n",
              "      <td>600</td>\n",
              "      <td>64950</td>\n",
              "      <td>0.720889</td>\n",
              "      <td>0.874372</td>\n",
              "      <td>0.505565</td>\n",
              "      <td>0.631619</td>\n",
              "      <td>0.846163</td>\n",
              "      <td>0.846163</td>\n",
              "      <td>4</td>\n",
              "      <td>1</td>\n",
              "    </tr>\n",
              "  </tbody>\n",
              "</table>\n",
              "</div>"
            ],
            "text/plain": [
              "       entry_id  age  ... inquiries_last_month  e_signed\n",
              "17903   9949728   31  ...                    2         0\n",
              "17904   9442442   46  ...                    3         0\n",
              "17905   9857590   46  ...                    9         0\n",
              "17906   8708471   42  ...                    3         1\n",
              "17907   1498559   29  ...                    4         1\n",
              "\n",
              "[5 rows x 21 columns]"
            ]
          },
          "metadata": {
            "tags": []
          },
          "execution_count": 8
        }
      ]
    },
    {
      "cell_type": "code",
      "metadata": {
        "colab": {
          "base_uri": "https://localhost:8080/"
        },
        "id": "rB7BaHOedOJO",
        "outputId": "68644afe-6c0d-4fb2-a756-c54aa840ceae"
      },
      "source": [
        "#Finding the count of each class of dependent variable\n",
        "print(data_df.e_signed[data_df[\"e_signed\"]==1].count())\n",
        "print(data_df.e_signed[data_df[\"e_signed\"]==0].count())"
      ],
      "execution_count": null,
      "outputs": [
        {
          "output_type": "stream",
          "text": [
            "9639\n",
            "8269\n"
          ],
          "name": "stdout"
        }
      ]
    },
    {
      "cell_type": "code",
      "metadata": {
        "colab": {
          "base_uri": "https://localhost:8080/",
          "height": 669
        },
        "id": "8kCjajUpdOJP",
        "outputId": "c7284c06-7a98-463e-ca3d-acc738a96ae9"
      },
      "source": [
        "#Checking for percentage of missing data in each column\n",
        "percent_missing = data_df.isnull().sum() * 100 / len(data_df)                \n",
        "missing_df = pd.DataFrame({'percent_missing': percent_missing})          \n",
        "\n",
        "missing_df"
      ],
      "execution_count": null,
      "outputs": [
        {
          "output_type": "execute_result",
          "data": {
            "text/html": [
              "<div>\n",
              "<style scoped>\n",
              "    .dataframe tbody tr th:only-of-type {\n",
              "        vertical-align: middle;\n",
              "    }\n",
              "\n",
              "    .dataframe tbody tr th {\n",
              "        vertical-align: top;\n",
              "    }\n",
              "\n",
              "    .dataframe thead th {\n",
              "        text-align: right;\n",
              "    }\n",
              "</style>\n",
              "<table border=\"1\" class=\"dataframe\">\n",
              "  <thead>\n",
              "    <tr style=\"text-align: right;\">\n",
              "      <th></th>\n",
              "      <th>percent_missing</th>\n",
              "    </tr>\n",
              "  </thead>\n",
              "  <tbody>\n",
              "    <tr>\n",
              "      <th>entry_id</th>\n",
              "      <td>0.0</td>\n",
              "    </tr>\n",
              "    <tr>\n",
              "      <th>age</th>\n",
              "      <td>0.0</td>\n",
              "    </tr>\n",
              "    <tr>\n",
              "      <th>pay_schedule</th>\n",
              "      <td>0.0</td>\n",
              "    </tr>\n",
              "    <tr>\n",
              "      <th>home_owner</th>\n",
              "      <td>0.0</td>\n",
              "    </tr>\n",
              "    <tr>\n",
              "      <th>income</th>\n",
              "      <td>0.0</td>\n",
              "    </tr>\n",
              "    <tr>\n",
              "      <th>months_employed</th>\n",
              "      <td>0.0</td>\n",
              "    </tr>\n",
              "    <tr>\n",
              "      <th>years_employed</th>\n",
              "      <td>0.0</td>\n",
              "    </tr>\n",
              "    <tr>\n",
              "      <th>current_address_year</th>\n",
              "      <td>0.0</td>\n",
              "    </tr>\n",
              "    <tr>\n",
              "      <th>personal_account_m</th>\n",
              "      <td>0.0</td>\n",
              "    </tr>\n",
              "    <tr>\n",
              "      <th>personal_account_y</th>\n",
              "      <td>0.0</td>\n",
              "    </tr>\n",
              "    <tr>\n",
              "      <th>has_debt</th>\n",
              "      <td>0.0</td>\n",
              "    </tr>\n",
              "    <tr>\n",
              "      <th>amount_requested</th>\n",
              "      <td>0.0</td>\n",
              "    </tr>\n",
              "    <tr>\n",
              "      <th>risk_score</th>\n",
              "      <td>0.0</td>\n",
              "    </tr>\n",
              "    <tr>\n",
              "      <th>risk_score_2</th>\n",
              "      <td>0.0</td>\n",
              "    </tr>\n",
              "    <tr>\n",
              "      <th>risk_score_3</th>\n",
              "      <td>0.0</td>\n",
              "    </tr>\n",
              "    <tr>\n",
              "      <th>risk_score_4</th>\n",
              "      <td>0.0</td>\n",
              "    </tr>\n",
              "    <tr>\n",
              "      <th>risk_score_5</th>\n",
              "      <td>0.0</td>\n",
              "    </tr>\n",
              "    <tr>\n",
              "      <th>ext_quality_score</th>\n",
              "      <td>0.0</td>\n",
              "    </tr>\n",
              "    <tr>\n",
              "      <th>ext_quality_score_2</th>\n",
              "      <td>0.0</td>\n",
              "    </tr>\n",
              "    <tr>\n",
              "      <th>inquiries_last_month</th>\n",
              "      <td>0.0</td>\n",
              "    </tr>\n",
              "    <tr>\n",
              "      <th>e_signed</th>\n",
              "      <td>0.0</td>\n",
              "    </tr>\n",
              "  </tbody>\n",
              "</table>\n",
              "</div>"
            ],
            "text/plain": [
              "                      percent_missing\n",
              "entry_id                          0.0\n",
              "age                               0.0\n",
              "pay_schedule                      0.0\n",
              "home_owner                        0.0\n",
              "income                            0.0\n",
              "months_employed                   0.0\n",
              "years_employed                    0.0\n",
              "current_address_year              0.0\n",
              "personal_account_m                0.0\n",
              "personal_account_y                0.0\n",
              "has_debt                          0.0\n",
              "amount_requested                  0.0\n",
              "risk_score                        0.0\n",
              "risk_score_2                      0.0\n",
              "risk_score_3                      0.0\n",
              "risk_score_4                      0.0\n",
              "risk_score_5                      0.0\n",
              "ext_quality_score                 0.0\n",
              "ext_quality_score_2               0.0\n",
              "inquiries_last_month              0.0\n",
              "e_signed                          0.0"
            ]
          },
          "metadata": {
            "tags": []
          },
          "execution_count": 18
        }
      ]
    },
    {
      "cell_type": "markdown",
      "metadata": {
        "id": "49DBGMUgdOJR"
      },
      "source": [
        "><font color=\"blue\"><b>We see that the data is not highly imbalanced since the ratio between the count of two classes of dependent variable is not so high and no missing value</b></font>"
      ]
    },
    {
      "cell_type": "code",
      "metadata": {
        "colab": {
          "base_uri": "https://localhost:8080/",
          "height": 841
        },
        "id": "kZDcPM2RdOJS",
        "outputId": "a14d4302-c256-4597-8d4b-212a6a0ef816"
      },
      "source": [
        "#Dropping the unnecessary columns\n",
        "dataset = data_df.drop(columns = ['entry_id', 'pay_schedule', 'e_signed'])\n",
        "\n",
        "fig = plt.figure(figsize=(15, 12))\n",
        "\n",
        "plt.suptitle('Histograms of Numerical Columns', fontsize=20)\n",
        "for i in range(dataset.shape[1]):\n",
        "    plt.subplot(6, 3, i + 1)\n",
        "    f = plt.gca()\n",
        "    f.set_title(dataset.columns.values[i])\n",
        "\n",
        "    vals = np.size(dataset.iloc[:, i].unique())\n",
        "    if vals >= 100:\n",
        "        vals = 100\n",
        "\n",
        "    plt.hist(dataset.iloc[:, i], bins=vals, color='green')\n",
        "\n",
        "plt.tight_layout(rect=[0, 0.03, 1, 0.95])"
      ],
      "execution_count": null,
      "outputs": [
        {
          "output_type": "display_data",
          "data": {
            "image/png": "[encoded data removed]",
            "text/plain": [
              "<Figure size 1080x864 with 18 Axes>"
            ]
          },
          "metadata": {
            "tags": [],
            "needs_background": "light"
          }
        }
      ]
    },
    {
      "cell_type": "code",
      "metadata": {
        "colab": {
          "base_uri": "https://localhost:8080/",
          "height": 782
        },
        "id": "udSZjDcedOJT",
        "outputId": "609f2620-97f5-4a81-abc8-cc049408dbdd"
      },
      "source": [
        "#Correlation of independent variable with dependent variable\n",
        "\n",
        "dataset.corrwith(data_df.e_signed).plot.bar(figsize=(20,10),title=\"correlation wigh E signed\",\n",
        "                                             fontsize=20,rot=45,grid= True,color=['pink','green',\n",
        "                                                                                  'blue','cyan','magenta'])"
      ],
      "execution_count": null,
      "outputs": [
        {
          "output_type": "execute_result",
          "data": {
            "text/plain": [
              "<matplotlib.axes._subplots.AxesSubplot at 0x7fd349966990>"
            ]
          },
          "metadata": {
            "tags": []
          },
          "execution_count": 26
        },
        {
          "output_type": "display_data",
          "data": {
            "image/png": "[encoded data removed]",
            "text/plain": [
              "<Figure size 1440x720 with 1 Axes>"
            ]
          },
          "metadata": {
            "tags": [],
            "needs_background": "light"
          }
        }
      ]
    },
    {
      "cell_type": "code",
      "metadata": {
        "id": "0Gj6KDdUdOJT"
      },
      "source": [
        "#Initiatizig into new variable and creating the dummy variable for categorical data\n",
        "data2_df=data_df\n",
        "dummy=pd.get_dummies(data2_df[\"pay_schedule\"])\n"
      ],
      "execution_count": null,
      "outputs": []
    },
    {
      "cell_type": "code",
      "metadata": {
        "colab": {
          "base_uri": "https://localhost:8080/",
          "height": 402
        },
        "id": "x6SgGdhGdOJU",
        "outputId": "39fb367f-94c9-4492-a56c-05c24c804cc9"
      },
      "source": [
        "dummy"
      ],
      "execution_count": null,
      "outputs": [
        {
          "output_type": "execute_result",
          "data": {
            "text/html": [
              "<div>\n",
              "<style scoped>\n",
              "    .dataframe tbody tr th:only-of-type {\n",
              "        vertical-align: middle;\n",
              "    }\n",
              "\n",
              "    .dataframe tbody tr th {\n",
              "        vertical-align: top;\n",
              "    }\n",
              "\n",
              "    .dataframe thead th {\n",
              "        text-align: right;\n",
              "    }\n",
              "</style>\n",
              "<table border=\"1\" class=\"dataframe\">\n",
              "  <thead>\n",
              "    <tr style=\"text-align: right;\">\n",
              "      <th></th>\n",
              "      <th>bi-weekly</th>\n",
              "      <th>monthly</th>\n",
              "      <th>semi-monthly</th>\n",
              "      <th>weekly</th>\n",
              "    </tr>\n",
              "  </thead>\n",
              "  <tbody>\n",
              "    <tr>\n",
              "      <th>0</th>\n",
              "      <td>1</td>\n",
              "      <td>0</td>\n",
              "      <td>0</td>\n",
              "      <td>0</td>\n",
              "    </tr>\n",
              "    <tr>\n",
              "      <th>1</th>\n",
              "      <td>0</td>\n",
              "      <td>0</td>\n",
              "      <td>0</td>\n",
              "      <td>1</td>\n",
              "    </tr>\n",
              "    <tr>\n",
              "      <th>2</th>\n",
              "      <td>0</td>\n",
              "      <td>0</td>\n",
              "      <td>0</td>\n",
              "      <td>1</td>\n",
              "    </tr>\n",
              "    <tr>\n",
              "      <th>3</th>\n",
              "      <td>1</td>\n",
              "      <td>0</td>\n",
              "      <td>0</td>\n",
              "      <td>0</td>\n",
              "    </tr>\n",
              "    <tr>\n",
              "      <th>4</th>\n",
              "      <td>0</td>\n",
              "      <td>0</td>\n",
              "      <td>1</td>\n",
              "      <td>0</td>\n",
              "    </tr>\n",
              "    <tr>\n",
              "      <th>...</th>\n",
              "      <td>...</td>\n",
              "      <td>...</td>\n",
              "      <td>...</td>\n",
              "      <td>...</td>\n",
              "    </tr>\n",
              "    <tr>\n",
              "      <th>17903</th>\n",
              "      <td>0</td>\n",
              "      <td>1</td>\n",
              "      <td>0</td>\n",
              "      <td>0</td>\n",
              "    </tr>\n",
              "    <tr>\n",
              "      <th>17904</th>\n",
              "      <td>1</td>\n",
              "      <td>0</td>\n",
              "      <td>0</td>\n",
              "      <td>0</td>\n",
              "    </tr>\n",
              "    <tr>\n",
              "      <th>17905</th>\n",
              "      <td>0</td>\n",
              "      <td>0</td>\n",
              "      <td>0</td>\n",
              "      <td>1</td>\n",
              "    </tr>\n",
              "    <tr>\n",
              "      <th>17906</th>\n",
              "      <td>1</td>\n",
              "      <td>0</td>\n",
              "      <td>0</td>\n",
              "      <td>0</td>\n",
              "    </tr>\n",
              "    <tr>\n",
              "      <th>17907</th>\n",
              "      <td>0</td>\n",
              "      <td>0</td>\n",
              "      <td>0</td>\n",
              "      <td>1</td>\n",
              "    </tr>\n",
              "  </tbody>\n",
              "</table>\n",
              "<p>17908 rows × 4 columns</p>\n",
              "</div>"
            ],
            "text/plain": [
              "       bi-weekly  monthly  semi-monthly  weekly\n",
              "0              1        0             0       0\n",
              "1              0        0             0       1\n",
              "2              0        0             0       1\n",
              "3              1        0             0       0\n",
              "4              0        0             1       0\n",
              "...          ...      ...           ...     ...\n",
              "17903          0        1             0       0\n",
              "17904          1        0             0       0\n",
              "17905          0        0             0       1\n",
              "17906          1        0             0       0\n",
              "17907          0        0             0       1\n",
              "\n",
              "[17908 rows x 4 columns]"
            ]
          },
          "metadata": {
            "tags": []
          },
          "execution_count": 29
        }
      ]
    },
    {
      "cell_type": "code",
      "metadata": {
        "id": "k-mUA8gndOJV"
      },
      "source": [
        "dummy=dummy.drop(labels=[\"bi-weekly\"],axis=1)"
      ],
      "execution_count": null,
      "outputs": []
    },
    {
      "cell_type": "code",
      "metadata": {
        "id": "zsQ2yxiTdOJW"
      },
      "source": [
        "\n",
        "data2_df=data2_df.drop([\"pay_schedule\"],axis=1)"
      ],
      "execution_count": null,
      "outputs": []
    },
    {
      "cell_type": "code",
      "metadata": {
        "id": "HV0FkXPkdOJb"
      },
      "source": [
        "\n",
        "data2_df=pd.concat([data2_df,dummy],axis=1)"
      ],
      "execution_count": null,
      "outputs": []
    },
    {
      "cell_type": "code",
      "metadata": {
        "colab": {
          "base_uri": "https://localhost:8080/"
        },
        "id": "utAYcUIfdOJb",
        "outputId": "ae8db028-943c-4125-a305-26d0dd07bceb"
      },
      "source": [
        "\n",
        "data2_df.shape"
      ],
      "execution_count": null,
      "outputs": [
        {
          "output_type": "execute_result",
          "data": {
            "text/plain": [
              "(17908, 23)"
            ]
          },
          "metadata": {
            "tags": []
          },
          "execution_count": 33
        }
      ]
    },
    {
      "cell_type": "code",
      "metadata": {
        "id": "8gx6euiadOJd"
      },
      "source": [
        "# Seperating the data into dependent and independent varioable. Response contains the esigned column which needs to be computed\n",
        "#from the dataset\n",
        "y = data2_df[\"e_signed\"]\n",
        "X= data2_df.drop(columns = [\"e_signed\", \"entry_id\"])"
      ],
      "execution_count": null,
      "outputs": []
    },
    {
      "cell_type": "code",
      "metadata": {
        "id": "9LcVeKgVdOJe"
      },
      "source": [
        "#Transforming the data using StandardScaler\n",
        "from sklearn.preprocessing import StandardScaler\n",
        "sc_X= StandardScaler()"
      ],
      "execution_count": null,
      "outputs": []
    },
    {
      "cell_type": "code",
      "metadata": {
        "id": "XWm-9oCfdOJg"
      },
      "source": [
        "# Splitting into Train and Test Set\n",
        "from sklearn.model_selection import train_test_split\n",
        "X_train, X_test, y_train, y_test = train_test_split(X,y,test_size = 0.2,random_state = 42)"
      ],
      "execution_count": null,
      "outputs": []
    },
    {
      "cell_type": "code",
      "metadata": {
        "id": "Z1RJdxyIdOJh"
      },
      "source": [
        "#Fitting and transforming our data\n",
        "X_train=sc_X.fit_transform(X_train)\n",
        "X_test=sc_X.transform(X_test)"
      ],
      "execution_count": null,
      "outputs": []
    },
    {
      "cell_type": "code",
      "metadata": {
        "colab": {
          "base_uri": "https://localhost:8080/"
        },
        "id": "laQGBqtWdOJh",
        "outputId": "b736821e-6caf-4030-c0e9-001030b274ba"
      },
      "source": [
        "X_train.shape"
      ],
      "execution_count": null,
      "outputs": [
        {
          "output_type": "execute_result",
          "data": {
            "text/plain": [
              "(14326, 21)"
            ]
          },
          "metadata": {
            "tags": []
          },
          "execution_count": 74
        }
      ]
    },
    {
      "cell_type": "markdown",
      "metadata": {
        "id": "8bMdSP3idOJi"
      },
      "source": [
        "#### ***Building ANN Using Keras***\n"
      ]
    },
    {
      "cell_type": "code",
      "metadata": {
        "id": "Wfc0Y9jQdOJl"
      },
      "source": [
        "# Importing the Keras libraries and packages\n",
        "import keras\n",
        "from keras.models import Sequential\n",
        "from keras.layers import Dense, Dropout\n",
        "\n",
        "\n"
      ],
      "execution_count": null,
      "outputs": []
    },
    {
      "cell_type": "code",
      "metadata": {
        "id": "JCvjB7jUdOJm"
      },
      "source": [
        "#Adding the layers in ANN\n",
        "from tensorflow import keras\n",
        "model = Sequential()\n",
        "model.add(Dense(units = 128, kernel_initializer = 'uniform', activation = 'relu', input_dim = X_train.shape[1]))\n",
        "\n",
        "\n",
        "model.add(Dense(units = 64, kernel_initializer = 'uniform', activation = 'relu'))\n",
        "\n",
        "model.add(Dense(units = 8, kernel_initializer = 'uniform', activation = 'relu'))\n",
        "\n",
        "model.add(Dense(units = 1, kernel_initializer = 'uniform', activation = 'sigmoid'))\n",
        "\n",
        "opt = tf.keras.optimizers.Adam(0.0001)\n",
        "model.compile(optimizer = opt, loss = 'binary_crossentropy', metrics = ['accuracy'])"
      ],
      "execution_count": null,
      "outputs": []
    },
    {
      "cell_type": "code",
      "metadata": {
        "colab": {
          "base_uri": "https://localhost:8080/"
        },
        "id": "GAE-UHIvdOJp",
        "outputId": "9ab62266-6dda-4620-c58f-e499416ee8fe"
      },
      "source": [
        "# Fitting the ANN to the Training set\n",
        "model.fit(X_train, y_train, batch_size = 128, epochs = 100)"
      ],
      "execution_count": null,
      "outputs": [
        {
          "output_type": "stream",
          "text": [
            "Epoch 1/100\n",
            "112/112 [==============================] - 1s 2ms/step - loss: 0.6930 - accuracy: 0.5398\n",
            "Epoch 2/100\n",
            "112/112 [==============================] - 0s 2ms/step - loss: 0.6924 - accuracy: 0.5360\n",
            "Epoch 3/100\n",
            "112/112 [==============================] - 0s 2ms/step - loss: 0.6886 - accuracy: 0.5392\n",
            "Epoch 4/100\n",
            "112/112 [==============================] - 0s 2ms/step - loss: 0.6795 - accuracy: 0.5371\n",
            "Epoch 5/100\n",
            "112/112 [==============================] - 0s 2ms/step - loss: 0.6735 - accuracy: 0.5782\n",
            "Epoch 6/100\n",
            "112/112 [==============================] - 0s 2ms/step - loss: 0.6686 - accuracy: 0.5954\n",
            "Epoch 7/100\n",
            "112/112 [==============================] - 0s 2ms/step - loss: 0.6656 - accuracy: 0.5960\n",
            "Epoch 8/100\n",
            "112/112 [==============================] - 0s 2ms/step - loss: 0.6638 - accuracy: 0.5951\n",
            "Epoch 9/100\n",
            "112/112 [==============================] - 0s 2ms/step - loss: 0.6634 - accuracy: 0.5919\n",
            "Epoch 10/100\n",
            "112/112 [==============================] - 0s 2ms/step - loss: 0.6608 - accuracy: 0.5951\n",
            "Epoch 11/100\n",
            "112/112 [==============================] - 0s 2ms/step - loss: 0.6623 - accuracy: 0.5901\n",
            "Epoch 12/100\n",
            "112/112 [==============================] - 0s 2ms/step - loss: 0.6607 - accuracy: 0.5904\n",
            "Epoch 13/100\n",
            "112/112 [==============================] - 0s 2ms/step - loss: 0.6595 - accuracy: 0.5957\n",
            "Epoch 14/100\n",
            "112/112 [==============================] - 0s 2ms/step - loss: 0.6533 - accuracy: 0.6048\n",
            "Epoch 15/100\n",
            "112/112 [==============================] - 0s 2ms/step - loss: 0.6560 - accuracy: 0.6041\n",
            "Epoch 16/100\n",
            "112/112 [==============================] - 0s 2ms/step - loss: 0.6504 - accuracy: 0.6071\n",
            "Epoch 17/100\n",
            "112/112 [==============================] - 0s 2ms/step - loss: 0.6497 - accuracy: 0.6069\n",
            "Epoch 18/100\n",
            "112/112 [==============================] - 0s 2ms/step - loss: 0.6530 - accuracy: 0.6096\n",
            "Epoch 19/100\n",
            "112/112 [==============================] - 0s 2ms/step - loss: 0.6533 - accuracy: 0.6053\n",
            "Epoch 20/100\n",
            "112/112 [==============================] - 0s 2ms/step - loss: 0.6524 - accuracy: 0.6058\n",
            "Epoch 21/100\n",
            "112/112 [==============================] - 0s 2ms/step - loss: 0.6497 - accuracy: 0.6112\n",
            "Epoch 22/100\n",
            "112/112 [==============================] - 0s 2ms/step - loss: 0.6465 - accuracy: 0.6130\n",
            "Epoch 23/100\n",
            "112/112 [==============================] - 0s 2ms/step - loss: 0.6467 - accuracy: 0.6167\n",
            "Epoch 24/100\n",
            "112/112 [==============================] - 0s 2ms/step - loss: 0.6472 - accuracy: 0.6154\n",
            "Epoch 25/100\n",
            "112/112 [==============================] - 0s 2ms/step - loss: 0.6458 - accuracy: 0.6203\n",
            "Epoch 26/100\n",
            "112/112 [==============================] - 0s 2ms/step - loss: 0.6423 - accuracy: 0.6252\n",
            "Epoch 27/100\n",
            "112/112 [==============================] - 0s 2ms/step - loss: 0.6385 - accuracy: 0.6281\n",
            "Epoch 28/100\n",
            "112/112 [==============================] - 0s 2ms/step - loss: 0.6389 - accuracy: 0.6307\n",
            "Epoch 29/100\n",
            "112/112 [==============================] - 0s 2ms/step - loss: 0.6435 - accuracy: 0.6214\n",
            "Epoch 30/100\n",
            "112/112 [==============================] - 0s 2ms/step - loss: 0.6405 - accuracy: 0.6269\n",
            "Epoch 31/100\n",
            "112/112 [==============================] - 0s 2ms/step - loss: 0.6351 - accuracy: 0.6320\n",
            "Epoch 32/100\n",
            "112/112 [==============================] - 0s 2ms/step - loss: 0.6380 - accuracy: 0.6318\n",
            "Epoch 33/100\n",
            "112/112 [==============================] - 0s 2ms/step - loss: 0.6346 - accuracy: 0.6333\n",
            "Epoch 34/100\n",
            "112/112 [==============================] - 0s 2ms/step - loss: 0.6327 - accuracy: 0.6392\n",
            "Epoch 35/100\n",
            "112/112 [==============================] - 0s 2ms/step - loss: 0.6399 - accuracy: 0.6303\n",
            "Epoch 36/100\n",
            "112/112 [==============================] - 0s 2ms/step - loss: 0.6304 - accuracy: 0.6406\n",
            "Epoch 37/100\n",
            "112/112 [==============================] - 0s 2ms/step - loss: 0.6335 - accuracy: 0.6360\n",
            "Epoch 38/100\n",
            "112/112 [==============================] - 0s 2ms/step - loss: 0.6278 - accuracy: 0.6495\n",
            "Epoch 39/100\n",
            "112/112 [==============================] - 0s 2ms/step - loss: 0.6331 - accuracy: 0.6379\n",
            "Epoch 40/100\n",
            "112/112 [==============================] - 0s 2ms/step - loss: 0.6291 - accuracy: 0.6401\n",
            "Epoch 41/100\n",
            "112/112 [==============================] - 0s 2ms/step - loss: 0.6291 - accuracy: 0.6434\n",
            "Epoch 42/100\n",
            "112/112 [==============================] - 0s 2ms/step - loss: 0.6294 - accuracy: 0.6424\n",
            "Epoch 43/100\n",
            "112/112 [==============================] - 0s 2ms/step - loss: 0.6286 - accuracy: 0.6419\n",
            "Epoch 44/100\n",
            "112/112 [==============================] - 0s 2ms/step - loss: 0.6295 - accuracy: 0.6427\n",
            "Epoch 45/100\n",
            "112/112 [==============================] - 0s 2ms/step - loss: 0.6267 - accuracy: 0.6421\n",
            "Epoch 46/100\n",
            "112/112 [==============================] - 0s 2ms/step - loss: 0.6305 - accuracy: 0.6394\n",
            "Epoch 47/100\n",
            "112/112 [==============================] - 0s 2ms/step - loss: 0.6249 - accuracy: 0.6489\n",
            "Epoch 48/100\n",
            "112/112 [==============================] - 0s 2ms/step - loss: 0.6260 - accuracy: 0.6418\n",
            "Epoch 49/100\n",
            "112/112 [==============================] - 0s 2ms/step - loss: 0.6239 - accuracy: 0.6452\n",
            "Epoch 50/100\n",
            "112/112 [==============================] - 0s 2ms/step - loss: 0.6271 - accuracy: 0.6382\n",
            "Epoch 51/100\n",
            "112/112 [==============================] - 0s 2ms/step - loss: 0.6241 - accuracy: 0.6450\n",
            "Epoch 52/100\n",
            "112/112 [==============================] - 0s 2ms/step - loss: 0.6281 - accuracy: 0.6408\n",
            "Epoch 53/100\n",
            "112/112 [==============================] - 0s 2ms/step - loss: 0.6216 - accuracy: 0.6531\n",
            "Epoch 54/100\n",
            "112/112 [==============================] - 0s 2ms/step - loss: 0.6256 - accuracy: 0.6418\n",
            "Epoch 55/100\n",
            "112/112 [==============================] - 0s 2ms/step - loss: 0.6255 - accuracy: 0.6442\n",
            "Epoch 56/100\n",
            "112/112 [==============================] - 0s 2ms/step - loss: 0.6207 - accuracy: 0.6468\n",
            "Epoch 57/100\n",
            "112/112 [==============================] - 0s 2ms/step - loss: 0.6231 - accuracy: 0.6480\n",
            "Epoch 58/100\n",
            "112/112 [==============================] - 0s 2ms/step - loss: 0.6206 - accuracy: 0.6512\n",
            "Epoch 59/100\n",
            "112/112 [==============================] - 0s 2ms/step - loss: 0.6218 - accuracy: 0.6471\n",
            "Epoch 60/100\n",
            "112/112 [==============================] - 0s 2ms/step - loss: 0.6215 - accuracy: 0.6521\n",
            "Epoch 61/100\n",
            "112/112 [==============================] - 0s 2ms/step - loss: 0.6246 - accuracy: 0.6426\n",
            "Epoch 62/100\n",
            "112/112 [==============================] - 0s 2ms/step - loss: 0.6167 - accuracy: 0.6583\n",
            "Epoch 63/100\n",
            "112/112 [==============================] - 0s 2ms/step - loss: 0.6166 - accuracy: 0.6536\n",
            "Epoch 64/100\n",
            "112/112 [==============================] - 0s 2ms/step - loss: 0.6178 - accuracy: 0.6537\n",
            "Epoch 65/100\n",
            "112/112 [==============================] - 0s 2ms/step - loss: 0.6216 - accuracy: 0.6486\n",
            "Epoch 66/100\n",
            "112/112 [==============================] - 0s 2ms/step - loss: 0.6157 - accuracy: 0.6529\n",
            "Epoch 67/100\n",
            "112/112 [==============================] - 0s 2ms/step - loss: 0.6190 - accuracy: 0.6506\n",
            "Epoch 68/100\n",
            "112/112 [==============================] - 0s 2ms/step - loss: 0.6141 - accuracy: 0.6603\n",
            "Epoch 69/100\n",
            "112/112 [==============================] - 0s 2ms/step - loss: 0.6183 - accuracy: 0.6530\n",
            "Epoch 70/100\n",
            "112/112 [==============================] - 0s 2ms/step - loss: 0.6173 - accuracy: 0.6561\n",
            "Epoch 71/100\n",
            "112/112 [==============================] - 0s 2ms/step - loss: 0.6186 - accuracy: 0.6566\n",
            "Epoch 72/100\n",
            "112/112 [==============================] - 0s 2ms/step - loss: 0.6138 - accuracy: 0.6611\n",
            "Epoch 73/100\n",
            "112/112 [==============================] - 0s 2ms/step - loss: 0.6145 - accuracy: 0.6527\n",
            "Epoch 74/100\n",
            "112/112 [==============================] - 0s 2ms/step - loss: 0.6140 - accuracy: 0.6570\n",
            "Epoch 75/100\n",
            "112/112 [==============================] - 0s 2ms/step - loss: 0.6108 - accuracy: 0.6620\n",
            "Epoch 76/100\n",
            "112/112 [==============================] - 0s 2ms/step - loss: 0.6153 - accuracy: 0.6567\n",
            "Epoch 77/100\n",
            "112/112 [==============================] - 0s 2ms/step - loss: 0.6137 - accuracy: 0.6581\n",
            "Epoch 78/100\n",
            "112/112 [==============================] - 0s 2ms/step - loss: 0.6106 - accuracy: 0.6620\n",
            "Epoch 79/100\n",
            "112/112 [==============================] - 0s 3ms/step - loss: 0.6174 - accuracy: 0.6548\n",
            "Epoch 80/100\n",
            "112/112 [==============================] - 0s 2ms/step - loss: 0.6136 - accuracy: 0.6590\n",
            "Epoch 81/100\n",
            "112/112 [==============================] - 0s 2ms/step - loss: 0.6174 - accuracy: 0.6554\n",
            "Epoch 82/100\n",
            "112/112 [==============================] - 0s 2ms/step - loss: 0.6138 - accuracy: 0.6586\n",
            "Epoch 83/100\n",
            "112/112 [==============================] - 0s 2ms/step - loss: 0.6087 - accuracy: 0.6640\n",
            "Epoch 84/100\n",
            "112/112 [==============================] - 0s 2ms/step - loss: 0.6124 - accuracy: 0.6632\n",
            "Epoch 85/100\n",
            "112/112 [==============================] - 0s 2ms/step - loss: 0.6148 - accuracy: 0.6559\n",
            "Epoch 86/100\n",
            "112/112 [==============================] - 0s 2ms/step - loss: 0.6120 - accuracy: 0.6614\n",
            "Epoch 87/100\n",
            "112/112 [==============================] - 0s 2ms/step - loss: 0.6145 - accuracy: 0.6559\n",
            "Epoch 88/100\n",
            "112/112 [==============================] - 0s 2ms/step - loss: 0.6093 - accuracy: 0.6617\n",
            "Epoch 89/100\n",
            "112/112 [==============================] - 0s 2ms/step - loss: 0.6078 - accuracy: 0.6696\n",
            "Epoch 90/100\n",
            "112/112 [==============================] - 0s 2ms/step - loss: 0.6104 - accuracy: 0.6614\n",
            "Epoch 91/100\n",
            "112/112 [==============================] - 0s 2ms/step - loss: 0.6099 - accuracy: 0.6641\n",
            "Epoch 92/100\n",
            "112/112 [==============================] - 0s 2ms/step - loss: 0.6092 - accuracy: 0.6637\n",
            "Epoch 93/100\n",
            "112/112 [==============================] - 0s 2ms/step - loss: 0.6054 - accuracy: 0.6698\n",
            "Epoch 94/100\n",
            "112/112 [==============================] - 0s 2ms/step - loss: 0.6135 - accuracy: 0.6593\n",
            "Epoch 95/100\n",
            "112/112 [==============================] - 0s 2ms/step - loss: 0.6105 - accuracy: 0.6628\n",
            "Epoch 96/100\n",
            "112/112 [==============================] - 0s 2ms/step - loss: 0.6072 - accuracy: 0.6666\n",
            "Epoch 97/100\n",
            "112/112 [==============================] - 0s 2ms/step - loss: 0.6082 - accuracy: 0.6652\n",
            "Epoch 98/100\n",
            "112/112 [==============================] - 0s 2ms/step - loss: 0.6022 - accuracy: 0.6745\n",
            "Epoch 99/100\n",
            "112/112 [==============================] - 0s 2ms/step - loss: 0.6049 - accuracy: 0.6700\n",
            "Epoch 100/100\n",
            "112/112 [==============================] - 0s 2ms/step - loss: 0.6058 - accuracy: 0.6680\n"
          ],
          "name": "stdout"
        },
        {
          "output_type": "execute_result",
          "data": {
            "text/plain": [
              "<tensorflow.python.keras.callbacks.History at 0x7fd325eaf3d0>"
            ]
          },
          "metadata": {
            "tags": []
          },
          "execution_count": 93
        }
      ]
    },
    {
      "cell_type": "code",
      "metadata": {
        "id": "frTr4tBRdOJq"
      },
      "source": [
        "#Predict functioon the test data using the model\n",
        "pred=model.predict(X_test)"
      ],
      "execution_count": null,
      "outputs": []
    },
    {
      "cell_type": "code",
      "metadata": {
        "id": "gUq8I4xLdOJq"
      },
      "source": [
        "\n",
        "y_pred = (pred > 0.5)"
      ],
      "execution_count": null,
      "outputs": []
    },
    {
      "cell_type": "code",
      "metadata": {
        "colab": {
          "base_uri": "https://localhost:8080/"
        },
        "id": "h26vJyOcdOJr",
        "outputId": "567eaf15-207b-4dfd-8b72-8cb5263ab4bd"
      },
      "source": [
        "accuracy_score(y_pred,y_test)"
      ],
      "execution_count": null,
      "outputs": [
        {
          "output_type": "execute_result",
          "data": {
            "text/plain": [
              "0.6253489670575098"
            ]
          },
          "metadata": {
            "tags": []
          },
          "execution_count": 96
        }
      ]
    },
    {
      "cell_type": "markdown",
      "metadata": {
        "id": "o2CkZBvKdOJt"
      },
      "source": [
        "## Other Machine Learning Model"
      ]
    },
    {
      "cell_type": "markdown",
      "metadata": {
        "id": "Ma2_RU1zdOJu"
      },
      "source": [
        "#### Feature Engineering"
      ]
    },
    {
      "cell_type": "markdown",
      "metadata": {
        "id": "RFw2Pqn8dOJv"
      },
      "source": [
        "##### AGE\n",
        "\n",
        "We will group our age data as follows:\n"
      ]
    },
    {
      "cell_type": "code",
      "metadata": {
        "id": "SHItw_eFdOJx"
      },
      "source": [
        "#Initializing the Empty List\n",
        "AGE=[]\n",
        "\n",
        "for i in range(len(data_df)):\n",
        "    if(data_df[\"age\"][i]<=45):\n",
        "        AGE.append(\"ADULT\")\n",
        "        \n",
        "    else:\n",
        "        AGE.append(\"SENIOR\")"
      ],
      "execution_count": null,
      "outputs": []
    },
    {
      "cell_type": "markdown",
      "metadata": {
        "id": "sTSgeQtLdOJ5"
      },
      "source": [
        "#### Months Employed and Personal Account\n",
        "\n",
        "We will calculate months employed as follows:\n",
        "<br>\n",
        "<p style=\"text-indent:5em\">month employed=month employed+ years employed*12</p>\n",
        "    <p style=\"text-indent:5em\">account_m=account_m+account_y*12</p>\n"
      ]
    },
    {
      "cell_type": "code",
      "metadata": {
        "id": "lj-ZZ8vfdOJ7"
      },
      "source": [
        "EMPLOYED=[]\n",
        "for i in range(len(data_df)):\n",
        "    x = data_df[\"months_employed\"][i]+data_df[\"years_employed\"][i]*12\n",
        "    EMPLOYED.append(x)"
      ],
      "execution_count": null,
      "outputs": []
    },
    {
      "cell_type": "code",
      "metadata": {
        "id": "_6g594jRdOJ8"
      },
      "source": [
        "PA=[]\n",
        "for i in range(len(data_df)):\n",
        "    x=data_df[\"personal_account_m\"][i]+data_df[\"personal_account_y\"][i]*12\n",
        "    PA.append(x)"
      ],
      "execution_count": null,
      "outputs": []
    },
    {
      "cell_type": "code",
      "metadata": {
        "id": "5fV0dDPVdOJ-"
      },
      "source": [
        "avg_risk=[]\n",
        "for i in range(len(data_df)):\n",
        "    x=(data_df[\"risk_score_2\"][i]+data_df[\"risk_score_3\"][i]+data_df[\"risk_score_4\"][i]+data_df[\"risk_score_5\"][i])/4\n",
        "    avg_risk.append(x)"
      ],
      "execution_count": null,
      "outputs": []
    },
    {
      "cell_type": "code",
      "metadata": {
        "id": "4M-mUrbLdOJ_"
      },
      "source": [
        "ext_quality=[]\n",
        "for i in range(len(data_df)):\n",
        "    x=(data_df[\"ext_quality_score_2\"][i]+data_df[\"ext_quality_score\"][i])/2\n",
        "    ext_quality.append(x)"
      ],
      "execution_count": null,
      "outputs": []
    },
    {
      "cell_type": "markdown",
      "metadata": {
        "id": "cBFNmzHBdOKA"
      },
      "source": [
        "#### Merging all the features into Single Dataframe\n",
        "\n",
        "<p style=\"text-indent:5em\">\n"
      ]
    },
    {
      "cell_type": "code",
      "metadata": {
        "id": "h32T_JCgdOKB"
      },
      "source": [
        "#Converting all lists into DataFrame\n",
        "AGE=pd.DataFrame(AGE)\n",
        "EMPLOYED=pd.DataFrame(EMPLOYED)\n",
        "PA=pd.DataFrame(PA)\n",
        "avg_risk=pd.DataFrame(avg_risk)\n",
        "ext_quality=pd.DataFrame(ext_quality)\n",
        "\n",
        "#Concatng all the features\n",
        "featured=pd.concat([AGE,EMPLOYED,PA,avg_risk,ext_quality],axis=1)"
      ],
      "execution_count": null,
      "outputs": []
    },
    {
      "cell_type": "code",
      "metadata": {
        "id": "MYE9ors7dOKD"
      },
      "source": [
        "featured.columns=[\"AGE\",\"EMPLOYED\",\"PA\",\"RISK\",\"QUALITY\"]"
      ],
      "execution_count": null,
      "outputs": []
    },
    {
      "cell_type": "code",
      "metadata": {
        "colab": {
          "base_uri": "https://localhost:8080/",
          "height": 195
        },
        "id": "lkWZU79TdOKE",
        "outputId": "c170f477-ebd9-4d6a-fc4d-a219815ad65e"
      },
      "source": [
        "featured.head()"
      ],
      "execution_count": null,
      "outputs": [
        {
          "output_type": "execute_result",
          "data": {
            "text/html": [
              "<div>\n",
              "<style scoped>\n",
              "    .dataframe tbody tr th:only-of-type {\n",
              "        vertical-align: middle;\n",
              "    }\n",
              "\n",
              "    .dataframe tbody tr th {\n",
              "        vertical-align: top;\n",
              "    }\n",
              "\n",
              "    .dataframe thead th {\n",
              "        text-align: right;\n",
              "    }\n",
              "</style>\n",
              "<table border=\"1\" class=\"dataframe\">\n",
              "  <thead>\n",
              "    <tr style=\"text-align: right;\">\n",
              "      <th></th>\n",
              "      <th>AGE</th>\n",
              "      <th>EMPLOYED</th>\n",
              "      <th>PA</th>\n",
              "      <th>RISK</th>\n",
              "      <th>QUALITY</th>\n",
              "    </tr>\n",
              "  </thead>\n",
              "  <tbody>\n",
              "    <tr>\n",
              "      <th>0</th>\n",
              "      <td>ADULT</td>\n",
              "      <td>36</td>\n",
              "      <td>30</td>\n",
              "      <td>0.661151</td>\n",
              "      <td>0.480918</td>\n",
              "    </tr>\n",
              "    <tr>\n",
              "      <th>1</th>\n",
              "      <td>SENIOR</td>\n",
              "      <td>72</td>\n",
              "      <td>86</td>\n",
              "      <td>0.789841</td>\n",
              "      <td>0.680720</td>\n",
              "    </tr>\n",
              "    <tr>\n",
              "      <th>2</th>\n",
              "      <td>ADULT</td>\n",
              "      <td>6</td>\n",
              "      <td>19</td>\n",
              "      <td>0.691712</td>\n",
              "      <td>0.531712</td>\n",
              "    </tr>\n",
              "    <tr>\n",
              "      <th>3</th>\n",
              "      <td>ADULT</td>\n",
              "      <td>72</td>\n",
              "      <td>86</td>\n",
              "      <td>0.793179</td>\n",
              "      <td>0.692552</td>\n",
              "    </tr>\n",
              "    <tr>\n",
              "      <th>4</th>\n",
              "      <td>ADULT</td>\n",
              "      <td>60</td>\n",
              "      <td>98</td>\n",
              "      <td>0.688483</td>\n",
              "      <td>0.744634</td>\n",
              "    </tr>\n",
              "  </tbody>\n",
              "</table>\n",
              "</div>"
            ],
            "text/plain": [
              "      AGE  EMPLOYED  PA      RISK   QUALITY\n",
              "0   ADULT        36  30  0.661151  0.480918\n",
              "1  SENIOR        72  86  0.789841  0.680720\n",
              "2   ADULT         6  19  0.691712  0.531712\n",
              "3   ADULT        72  86  0.793179  0.692552\n",
              "4   ADULT        60  98  0.688483  0.744634"
            ]
          },
          "metadata": {
            "tags": []
          },
          "execution_count": 106
        }
      ]
    },
    {
      "cell_type": "code",
      "metadata": {
        "colab": {
          "base_uri": "https://localhost:8080/",
          "height": 195
        },
        "id": "NKjIE00YdOKF",
        "outputId": "1ec86d6d-3dcb-459f-d5c2-980707f9d017"
      },
      "source": [
        "#Creating Dummy Variable\n",
        "dummy1=pd.get_dummies(featured[\"AGE\"])\n",
        "dummy1.head()"
      ],
      "execution_count": null,
      "outputs": [
        {
          "output_type": "execute_result",
          "data": {
            "text/html": [
              "<div>\n",
              "<style scoped>\n",
              "    .dataframe tbody tr th:only-of-type {\n",
              "        vertical-align: middle;\n",
              "    }\n",
              "\n",
              "    .dataframe tbody tr th {\n",
              "        vertical-align: top;\n",
              "    }\n",
              "\n",
              "    .dataframe thead th {\n",
              "        text-align: right;\n",
              "    }\n",
              "</style>\n",
              "<table border=\"1\" class=\"dataframe\">\n",
              "  <thead>\n",
              "    <tr style=\"text-align: right;\">\n",
              "      <th></th>\n",
              "      <th>ADULT</th>\n",
              "      <th>SENIOR</th>\n",
              "    </tr>\n",
              "  </thead>\n",
              "  <tbody>\n",
              "    <tr>\n",
              "      <th>0</th>\n",
              "      <td>1</td>\n",
              "      <td>0</td>\n",
              "    </tr>\n",
              "    <tr>\n",
              "      <th>1</th>\n",
              "      <td>0</td>\n",
              "      <td>1</td>\n",
              "    </tr>\n",
              "    <tr>\n",
              "      <th>2</th>\n",
              "      <td>1</td>\n",
              "      <td>0</td>\n",
              "    </tr>\n",
              "    <tr>\n",
              "      <th>3</th>\n",
              "      <td>1</td>\n",
              "      <td>0</td>\n",
              "    </tr>\n",
              "    <tr>\n",
              "      <th>4</th>\n",
              "      <td>1</td>\n",
              "      <td>0</td>\n",
              "    </tr>\n",
              "  </tbody>\n",
              "</table>\n",
              "</div>"
            ],
            "text/plain": [
              "   ADULT  SENIOR\n",
              "0      1       0\n",
              "1      0       1\n",
              "2      1       0\n",
              "3      1       0\n",
              "4      1       0"
            ]
          },
          "metadata": {
            "tags": []
          },
          "execution_count": 107
        }
      ]
    },
    {
      "cell_type": "code",
      "metadata": {
        "colab": {
          "base_uri": "https://localhost:8080/",
          "height": 195
        },
        "id": "Af9ss02-dOKH",
        "outputId": "be7d96fe-ea75-4e7a-d531-8ed155c38ac2"
      },
      "source": [
        "#Dropping the AGE Variable since dummy variable is created\n",
        "featured=featured.drop([\"AGE\"],axis=1)\n",
        "\n",
        "#Concating the data and dummy variable\n",
        "featured=pd.concat([featured,dummy1],axis=1)\n",
        "featured.head()"
      ],
      "execution_count": null,
      "outputs": [
        {
          "output_type": "execute_result",
          "data": {
            "text/html": [
              "<div>\n",
              "<style scoped>\n",
              "    .dataframe tbody tr th:only-of-type {\n",
              "        vertical-align: middle;\n",
              "    }\n",
              "\n",
              "    .dataframe tbody tr th {\n",
              "        vertical-align: top;\n",
              "    }\n",
              "\n",
              "    .dataframe thead th {\n",
              "        text-align: right;\n",
              "    }\n",
              "</style>\n",
              "<table border=\"1\" class=\"dataframe\">\n",
              "  <thead>\n",
              "    <tr style=\"text-align: right;\">\n",
              "      <th></th>\n",
              "      <th>EMPLOYED</th>\n",
              "      <th>PA</th>\n",
              "      <th>RISK</th>\n",
              "      <th>QUALITY</th>\n",
              "      <th>ADULT</th>\n",
              "      <th>SENIOR</th>\n",
              "    </tr>\n",
              "  </thead>\n",
              "  <tbody>\n",
              "    <tr>\n",
              "      <th>0</th>\n",
              "      <td>36</td>\n",
              "      <td>30</td>\n",
              "      <td>0.661151</td>\n",
              "      <td>0.480918</td>\n",
              "      <td>1</td>\n",
              "      <td>0</td>\n",
              "    </tr>\n",
              "    <tr>\n",
              "      <th>1</th>\n",
              "      <td>72</td>\n",
              "      <td>86</td>\n",
              "      <td>0.789841</td>\n",
              "      <td>0.680720</td>\n",
              "      <td>0</td>\n",
              "      <td>1</td>\n",
              "    </tr>\n",
              "    <tr>\n",
              "      <th>2</th>\n",
              "      <td>6</td>\n",
              "      <td>19</td>\n",
              "      <td>0.691712</td>\n",
              "      <td>0.531712</td>\n",
              "      <td>1</td>\n",
              "      <td>0</td>\n",
              "    </tr>\n",
              "    <tr>\n",
              "      <th>3</th>\n",
              "      <td>72</td>\n",
              "      <td>86</td>\n",
              "      <td>0.793179</td>\n",
              "      <td>0.692552</td>\n",
              "      <td>1</td>\n",
              "      <td>0</td>\n",
              "    </tr>\n",
              "    <tr>\n",
              "      <th>4</th>\n",
              "      <td>60</td>\n",
              "      <td>98</td>\n",
              "      <td>0.688483</td>\n",
              "      <td>0.744634</td>\n",
              "      <td>1</td>\n",
              "      <td>0</td>\n",
              "    </tr>\n",
              "  </tbody>\n",
              "</table>\n",
              "</div>"
            ],
            "text/plain": [
              "   EMPLOYED  PA      RISK   QUALITY  ADULT  SENIOR\n",
              "0        36  30  0.661151  0.480918      1       0\n",
              "1        72  86  0.789841  0.680720      0       1\n",
              "2         6  19  0.691712  0.531712      1       0\n",
              "3        72  86  0.793179  0.692552      1       0\n",
              "4        60  98  0.688483  0.744634      1       0"
            ]
          },
          "metadata": {
            "tags": []
          },
          "execution_count": 108
        }
      ]
    },
    {
      "cell_type": "markdown",
      "metadata": {
        "id": "QGMQWu5adOKJ"
      },
      "source": [
        "#### Classifying the Data into dependent and independent Variable"
      ]
    },
    {
      "cell_type": "code",
      "metadata": {
        "id": "5EWv1oHXdOKJ"
      },
      "source": [
        "#Dependent Variable\n",
        "dep=\"e_signed\"\n",
        "\n",
        "#Selelcting all the column as independent variable\n",
        "ind=data_df.columns.tolist()"
      ],
      "execution_count": null,
      "outputs": []
    },
    {
      "cell_type": "code",
      "metadata": {
        "colab": {
          "base_uri": "https://localhost:8080/"
        },
        "id": "wsN97R9KdOKK",
        "outputId": "30ff6fae-9ddf-49e7-f7f3-9d2ad1b8fb80"
      },
      "source": [
        "ind"
      ],
      "execution_count": null,
      "outputs": [
        {
          "output_type": "execute_result",
          "data": {
            "text/plain": [
              "['entry_id',\n",
              " 'age',\n",
              " 'pay_schedule',\n",
              " 'home_owner',\n",
              " 'income',\n",
              " 'months_employed',\n",
              " 'years_employed',\n",
              " 'current_address_year',\n",
              " 'personal_account_m',\n",
              " 'personal_account_y',\n",
              " 'has_debt',\n",
              " 'amount_requested',\n",
              " 'risk_score',\n",
              " 'risk_score_2',\n",
              " 'risk_score_3',\n",
              " 'risk_score_4',\n",
              " 'risk_score_5',\n",
              " 'ext_quality_score',\n",
              " 'ext_quality_score_2',\n",
              " 'inquiries_last_month',\n",
              " 'e_signed']"
            ]
          },
          "metadata": {
            "tags": []
          },
          "execution_count": 111
        }
      ]
    },
    {
      "cell_type": "code",
      "metadata": {
        "id": "ELJ80UE8dOKM"
      },
      "source": [
        "#Removing the dependent variable from independent\n",
        "ind.remove(dep)\n",
        "ind.remove(\"entry_id\")"
      ],
      "execution_count": null,
      "outputs": []
    },
    {
      "cell_type": "code",
      "metadata": {
        "id": "1zurcvR0dOKN"
      },
      "source": [
        "#Selecting the Data\n",
        "X = data_df[ind]\n",
        "Y = data_df[dep]"
      ],
      "execution_count": null,
      "outputs": []
    },
    {
      "cell_type": "code",
      "metadata": {
        "colab": {
          "base_uri": "https://localhost:8080/",
          "height": 215
        },
        "id": "asELDuUwdOKO",
        "outputId": "80176ee5-ef0f-4451-fd45-fcc566b81e4b"
      },
      "source": [
        "#Concating the featured data and unfeatured data\n",
        "X = pd.concat([X,featured],axis=1)\n",
        "X.head()"
      ],
      "execution_count": null,
      "outputs": [
        {
          "output_type": "execute_result",
          "data": {
            "text/html": [
              "<div>\n",
              "<style scoped>\n",
              "    .dataframe tbody tr th:only-of-type {\n",
              "        vertical-align: middle;\n",
              "    }\n",
              "\n",
              "    .dataframe tbody tr th {\n",
              "        vertical-align: top;\n",
              "    }\n",
              "\n",
              "    .dataframe thead th {\n",
              "        text-align: right;\n",
              "    }\n",
              "</style>\n",
              "<table border=\"1\" class=\"dataframe\">\n",
              "  <thead>\n",
              "    <tr style=\"text-align: right;\">\n",
              "      <th></th>\n",
              "      <th>age</th>\n",
              "      <th>pay_schedule</th>\n",
              "      <th>home_owner</th>\n",
              "      <th>income</th>\n",
              "      <th>months_employed</th>\n",
              "      <th>years_employed</th>\n",
              "      <th>current_address_year</th>\n",
              "      <th>personal_account_m</th>\n",
              "      <th>personal_account_y</th>\n",
              "      <th>has_debt</th>\n",
              "      <th>amount_requested</th>\n",
              "      <th>risk_score</th>\n",
              "      <th>risk_score_2</th>\n",
              "      <th>risk_score_3</th>\n",
              "      <th>risk_score_4</th>\n",
              "      <th>risk_score_5</th>\n",
              "      <th>ext_quality_score</th>\n",
              "      <th>ext_quality_score_2</th>\n",
              "      <th>inquiries_last_month</th>\n",
              "      <th>EMPLOYED</th>\n",
              "      <th>PA</th>\n",
              "      <th>RISK</th>\n",
              "      <th>QUALITY</th>\n",
              "      <th>ADULT</th>\n",
              "      <th>SENIOR</th>\n",
              "    </tr>\n",
              "  </thead>\n",
              "  <tbody>\n",
              "    <tr>\n",
              "      <th>0</th>\n",
              "      <td>40</td>\n",
              "      <td>bi-weekly</td>\n",
              "      <td>1</td>\n",
              "      <td>3135</td>\n",
              "      <td>0</td>\n",
              "      <td>3</td>\n",
              "      <td>3</td>\n",
              "      <td>6</td>\n",
              "      <td>2</td>\n",
              "      <td>1</td>\n",
              "      <td>550</td>\n",
              "      <td>36200</td>\n",
              "      <td>0.737398</td>\n",
              "      <td>0.903517</td>\n",
              "      <td>0.487712</td>\n",
              "      <td>0.515977</td>\n",
              "      <td>0.580918</td>\n",
              "      <td>0.380918</td>\n",
              "      <td>10</td>\n",
              "      <td>36</td>\n",
              "      <td>30</td>\n",
              "      <td>0.661151</td>\n",
              "      <td>0.480918</td>\n",
              "      <td>1</td>\n",
              "      <td>0</td>\n",
              "    </tr>\n",
              "    <tr>\n",
              "      <th>1</th>\n",
              "      <td>61</td>\n",
              "      <td>weekly</td>\n",
              "      <td>0</td>\n",
              "      <td>3180</td>\n",
              "      <td>0</td>\n",
              "      <td>6</td>\n",
              "      <td>3</td>\n",
              "      <td>2</td>\n",
              "      <td>7</td>\n",
              "      <td>1</td>\n",
              "      <td>600</td>\n",
              "      <td>30150</td>\n",
              "      <td>0.738510</td>\n",
              "      <td>0.881027</td>\n",
              "      <td>0.713423</td>\n",
              "      <td>0.826402</td>\n",
              "      <td>0.730720</td>\n",
              "      <td>0.630720</td>\n",
              "      <td>9</td>\n",
              "      <td>72</td>\n",
              "      <td>86</td>\n",
              "      <td>0.789841</td>\n",
              "      <td>0.680720</td>\n",
              "      <td>0</td>\n",
              "      <td>1</td>\n",
              "    </tr>\n",
              "    <tr>\n",
              "      <th>2</th>\n",
              "      <td>23</td>\n",
              "      <td>weekly</td>\n",
              "      <td>0</td>\n",
              "      <td>1540</td>\n",
              "      <td>6</td>\n",
              "      <td>0</td>\n",
              "      <td>0</td>\n",
              "      <td>7</td>\n",
              "      <td>1</td>\n",
              "      <td>1</td>\n",
              "      <td>450</td>\n",
              "      <td>34550</td>\n",
              "      <td>0.642993</td>\n",
              "      <td>0.766554</td>\n",
              "      <td>0.595018</td>\n",
              "      <td>0.762284</td>\n",
              "      <td>0.531712</td>\n",
              "      <td>0.531712</td>\n",
              "      <td>7</td>\n",
              "      <td>6</td>\n",
              "      <td>19</td>\n",
              "      <td>0.691712</td>\n",
              "      <td>0.531712</td>\n",
              "      <td>1</td>\n",
              "      <td>0</td>\n",
              "    </tr>\n",
              "    <tr>\n",
              "      <th>3</th>\n",
              "      <td>40</td>\n",
              "      <td>bi-weekly</td>\n",
              "      <td>0</td>\n",
              "      <td>5230</td>\n",
              "      <td>0</td>\n",
              "      <td>6</td>\n",
              "      <td>1</td>\n",
              "      <td>2</td>\n",
              "      <td>7</td>\n",
              "      <td>1</td>\n",
              "      <td>700</td>\n",
              "      <td>42150</td>\n",
              "      <td>0.665224</td>\n",
              "      <td>0.960832</td>\n",
              "      <td>0.767828</td>\n",
              "      <td>0.778831</td>\n",
              "      <td>0.792552</td>\n",
              "      <td>0.592552</td>\n",
              "      <td>8</td>\n",
              "      <td>72</td>\n",
              "      <td>86</td>\n",
              "      <td>0.793179</td>\n",
              "      <td>0.692552</td>\n",
              "      <td>1</td>\n",
              "      <td>0</td>\n",
              "    </tr>\n",
              "    <tr>\n",
              "      <th>4</th>\n",
              "      <td>33</td>\n",
              "      <td>semi-monthly</td>\n",
              "      <td>0</td>\n",
              "      <td>3590</td>\n",
              "      <td>0</td>\n",
              "      <td>5</td>\n",
              "      <td>2</td>\n",
              "      <td>2</td>\n",
              "      <td>8</td>\n",
              "      <td>1</td>\n",
              "      <td>1100</td>\n",
              "      <td>53850</td>\n",
              "      <td>0.617361</td>\n",
              "      <td>0.857560</td>\n",
              "      <td>0.613487</td>\n",
              "      <td>0.665523</td>\n",
              "      <td>0.744634</td>\n",
              "      <td>0.744634</td>\n",
              "      <td>12</td>\n",
              "      <td>60</td>\n",
              "      <td>98</td>\n",
              "      <td>0.688483</td>\n",
              "      <td>0.744634</td>\n",
              "      <td>1</td>\n",
              "      <td>0</td>\n",
              "    </tr>\n",
              "  </tbody>\n",
              "</table>\n",
              "</div>"
            ],
            "text/plain": [
              "   age  pay_schedule  home_owner  income  ...      RISK   QUALITY  ADULT  SENIOR\n",
              "0   40     bi-weekly           1    3135  ...  0.661151  0.480918      1       0\n",
              "1   61        weekly           0    3180  ...  0.789841  0.680720      0       1\n",
              "2   23        weekly           0    1540  ...  0.691712  0.531712      1       0\n",
              "3   40     bi-weekly           0    5230  ...  0.793179  0.692552      1       0\n",
              "4   33  semi-monthly           0    3590  ...  0.688483  0.744634      1       0\n",
              "\n",
              "[5 rows x 25 columns]"
            ]
          },
          "metadata": {
            "tags": []
          },
          "execution_count": 215
        }
      ]
    },
    {
      "cell_type": "code",
      "metadata": {
        "id": "gpviLP4rdOKP"
      },
      "source": [
        "#Dropping the unnecessay data from our dataset\n",
        "X=X.drop(labels=[\"age\",\"months_employed\",\"years_employed\",\"personal_account_m\",\"personal_account_y\",\"risk_score_2\",\"risk_score_3\"\n",
        "                ,\"risk_score_4\",\"risk_score_5\",\"ext_quality_score_2\",\"ext_quality_score\"],axis=1)"
      ],
      "execution_count": null,
      "outputs": []
    },
    {
      "cell_type": "code",
      "metadata": {
        "colab": {
          "base_uri": "https://localhost:8080/",
          "height": 195
        },
        "id": "8wEIlAfedOKQ",
        "outputId": "46d633c8-4d2b-499f-a47d-610ec4eba150"
      },
      "source": [
        "X.head()"
      ],
      "execution_count": null,
      "outputs": [
        {
          "output_type": "execute_result",
          "data": {
            "text/html": [
              "<div>\n",
              "<style scoped>\n",
              "    .dataframe tbody tr th:only-of-type {\n",
              "        vertical-align: middle;\n",
              "    }\n",
              "\n",
              "    .dataframe tbody tr th {\n",
              "        vertical-align: top;\n",
              "    }\n",
              "\n",
              "    .dataframe thead th {\n",
              "        text-align: right;\n",
              "    }\n",
              "</style>\n",
              "<table border=\"1\" class=\"dataframe\">\n",
              "  <thead>\n",
              "    <tr style=\"text-align: right;\">\n",
              "      <th></th>\n",
              "      <th>pay_schedule</th>\n",
              "      <th>home_owner</th>\n",
              "      <th>income</th>\n",
              "      <th>current_address_year</th>\n",
              "      <th>has_debt</th>\n",
              "      <th>amount_requested</th>\n",
              "      <th>risk_score</th>\n",
              "      <th>inquiries_last_month</th>\n",
              "      <th>EMPLOYED</th>\n",
              "      <th>PA</th>\n",
              "      <th>RISK</th>\n",
              "      <th>QUALITY</th>\n",
              "      <th>ADULT</th>\n",
              "      <th>SENIOR</th>\n",
              "    </tr>\n",
              "  </thead>\n",
              "  <tbody>\n",
              "    <tr>\n",
              "      <th>0</th>\n",
              "      <td>bi-weekly</td>\n",
              "      <td>1</td>\n",
              "      <td>3135</td>\n",
              "      <td>3</td>\n",
              "      <td>1</td>\n",
              "      <td>550</td>\n",
              "      <td>36200</td>\n",
              "      <td>10</td>\n",
              "      <td>36</td>\n",
              "      <td>30</td>\n",
              "      <td>0.661151</td>\n",
              "      <td>0.480918</td>\n",
              "      <td>1</td>\n",
              "      <td>0</td>\n",
              "    </tr>\n",
              "    <tr>\n",
              "      <th>1</th>\n",
              "      <td>weekly</td>\n",
              "      <td>0</td>\n",
              "      <td>3180</td>\n",
              "      <td>3</td>\n",
              "      <td>1</td>\n",
              "      <td>600</td>\n",
              "      <td>30150</td>\n",
              "      <td>9</td>\n",
              "      <td>72</td>\n",
              "      <td>86</td>\n",
              "      <td>0.789841</td>\n",
              "      <td>0.680720</td>\n",
              "      <td>0</td>\n",
              "      <td>1</td>\n",
              "    </tr>\n",
              "    <tr>\n",
              "      <th>2</th>\n",
              "      <td>weekly</td>\n",
              "      <td>0</td>\n",
              "      <td>1540</td>\n",
              "      <td>0</td>\n",
              "      <td>1</td>\n",
              "      <td>450</td>\n",
              "      <td>34550</td>\n",
              "      <td>7</td>\n",
              "      <td>6</td>\n",
              "      <td>19</td>\n",
              "      <td>0.691712</td>\n",
              "      <td>0.531712</td>\n",
              "      <td>1</td>\n",
              "      <td>0</td>\n",
              "    </tr>\n",
              "    <tr>\n",
              "      <th>3</th>\n",
              "      <td>bi-weekly</td>\n",
              "      <td>0</td>\n",
              "      <td>5230</td>\n",
              "      <td>1</td>\n",
              "      <td>1</td>\n",
              "      <td>700</td>\n",
              "      <td>42150</td>\n",
              "      <td>8</td>\n",
              "      <td>72</td>\n",
              "      <td>86</td>\n",
              "      <td>0.793179</td>\n",
              "      <td>0.692552</td>\n",
              "      <td>1</td>\n",
              "      <td>0</td>\n",
              "    </tr>\n",
              "    <tr>\n",
              "      <th>4</th>\n",
              "      <td>semi-monthly</td>\n",
              "      <td>0</td>\n",
              "      <td>3590</td>\n",
              "      <td>2</td>\n",
              "      <td>1</td>\n",
              "      <td>1100</td>\n",
              "      <td>53850</td>\n",
              "      <td>12</td>\n",
              "      <td>60</td>\n",
              "      <td>98</td>\n",
              "      <td>0.688483</td>\n",
              "      <td>0.744634</td>\n",
              "      <td>1</td>\n",
              "      <td>0</td>\n",
              "    </tr>\n",
              "  </tbody>\n",
              "</table>\n",
              "</div>"
            ],
            "text/plain": [
              "   pay_schedule  home_owner  income  ...   QUALITY  ADULT  SENIOR\n",
              "0     bi-weekly           1    3135  ...  0.480918      1       0\n",
              "1        weekly           0    3180  ...  0.680720      0       1\n",
              "2        weekly           0    1540  ...  0.531712      1       0\n",
              "3     bi-weekly           0    5230  ...  0.692552      1       0\n",
              "4  semi-monthly           0    3590  ...  0.744634      1       0\n",
              "\n",
              "[5 rows x 14 columns]"
            ]
          },
          "metadata": {
            "tags": []
          },
          "execution_count": 217
        }
      ]
    },
    {
      "cell_type": "code",
      "metadata": {
        "colab": {
          "base_uri": "https://localhost:8080/",
          "height": 195
        },
        "id": "g2I7NZIzdOKR",
        "outputId": "f501c554-d468-4ca6-86b4-0b0ff2ac09fe"
      },
      "source": [
        "#Creating Dummy Variable\n",
        "dummy2=pd.get_dummies(X[\"pay_schedule\"])\n",
        "\n",
        "#Removing the trap\n",
        "dummy2=dummy2.drop(labels=[\"bi-weekly\"],axis=1)\n",
        "dummy2.head()"
      ],
      "execution_count": null,
      "outputs": [
        {
          "output_type": "execute_result",
          "data": {
            "text/html": [
              "<div>\n",
              "<style scoped>\n",
              "    .dataframe tbody tr th:only-of-type {\n",
              "        vertical-align: middle;\n",
              "    }\n",
              "\n",
              "    .dataframe tbody tr th {\n",
              "        vertical-align: top;\n",
              "    }\n",
              "\n",
              "    .dataframe thead th {\n",
              "        text-align: right;\n",
              "    }\n",
              "</style>\n",
              "<table border=\"1\" class=\"dataframe\">\n",
              "  <thead>\n",
              "    <tr style=\"text-align: right;\">\n",
              "      <th></th>\n",
              "      <th>monthly</th>\n",
              "      <th>semi-monthly</th>\n",
              "      <th>weekly</th>\n",
              "    </tr>\n",
              "  </thead>\n",
              "  <tbody>\n",
              "    <tr>\n",
              "      <th>0</th>\n",
              "      <td>0</td>\n",
              "      <td>0</td>\n",
              "      <td>0</td>\n",
              "    </tr>\n",
              "    <tr>\n",
              "      <th>1</th>\n",
              "      <td>0</td>\n",
              "      <td>0</td>\n",
              "      <td>1</td>\n",
              "    </tr>\n",
              "    <tr>\n",
              "      <th>2</th>\n",
              "      <td>0</td>\n",
              "      <td>0</td>\n",
              "      <td>1</td>\n",
              "    </tr>\n",
              "    <tr>\n",
              "      <th>3</th>\n",
              "      <td>0</td>\n",
              "      <td>0</td>\n",
              "      <td>0</td>\n",
              "    </tr>\n",
              "    <tr>\n",
              "      <th>4</th>\n",
              "      <td>0</td>\n",
              "      <td>1</td>\n",
              "      <td>0</td>\n",
              "    </tr>\n",
              "  </tbody>\n",
              "</table>\n",
              "</div>"
            ],
            "text/plain": [
              "   monthly  semi-monthly  weekly\n",
              "0        0             0       0\n",
              "1        0             0       1\n",
              "2        0             0       1\n",
              "3        0             0       0\n",
              "4        0             1       0"
            ]
          },
          "metadata": {
            "tags": []
          },
          "execution_count": 218
        }
      ]
    },
    {
      "cell_type": "code",
      "metadata": {
        "colab": {
          "base_uri": "https://localhost:8080/",
          "height": 212
        },
        "id": "NFXfx9UAdOKS",
        "outputId": "192613b4-f48a-4498-e1cc-55740e79f6d9"
      },
      "source": [
        "#Dropping the pay_schedule since dummy variable is created\n",
        "X=X.drop(labels=[\"pay_schedule\"],axis=1)\n",
        "\n",
        "#Concating the data and dummy variable\n",
        "x=pd.concat([X,dummy2],axis=1)\n",
        "x.head()"
      ],
      "execution_count": null,
      "outputs": [
        {
          "output_type": "execute_result",
          "data": {
            "text/html": [
              "<div>\n",
              "<style scoped>\n",
              "    .dataframe tbody tr th:only-of-type {\n",
              "        vertical-align: middle;\n",
              "    }\n",
              "\n",
              "    .dataframe tbody tr th {\n",
              "        vertical-align: top;\n",
              "    }\n",
              "\n",
              "    .dataframe thead th {\n",
              "        text-align: right;\n",
              "    }\n",
              "</style>\n",
              "<table border=\"1\" class=\"dataframe\">\n",
              "  <thead>\n",
              "    <tr style=\"text-align: right;\">\n",
              "      <th></th>\n",
              "      <th>home_owner</th>\n",
              "      <th>income</th>\n",
              "      <th>current_address_year</th>\n",
              "      <th>has_debt</th>\n",
              "      <th>amount_requested</th>\n",
              "      <th>risk_score</th>\n",
              "      <th>inquiries_last_month</th>\n",
              "      <th>EMPLOYED</th>\n",
              "      <th>PA</th>\n",
              "      <th>RISK</th>\n",
              "      <th>QUALITY</th>\n",
              "      <th>ADULT</th>\n",
              "      <th>SENIOR</th>\n",
              "      <th>monthly</th>\n",
              "      <th>semi-monthly</th>\n",
              "      <th>weekly</th>\n",
              "    </tr>\n",
              "  </thead>\n",
              "  <tbody>\n",
              "    <tr>\n",
              "      <th>0</th>\n",
              "      <td>1</td>\n",
              "      <td>3135</td>\n",
              "      <td>3</td>\n",
              "      <td>1</td>\n",
              "      <td>550</td>\n",
              "      <td>36200</td>\n",
              "      <td>10</td>\n",
              "      <td>36</td>\n",
              "      <td>30</td>\n",
              "      <td>0.661151</td>\n",
              "      <td>0.480918</td>\n",
              "      <td>1</td>\n",
              "      <td>0</td>\n",
              "      <td>0</td>\n",
              "      <td>0</td>\n",
              "      <td>0</td>\n",
              "    </tr>\n",
              "    <tr>\n",
              "      <th>1</th>\n",
              "      <td>0</td>\n",
              "      <td>3180</td>\n",
              "      <td>3</td>\n",
              "      <td>1</td>\n",
              "      <td>600</td>\n",
              "      <td>30150</td>\n",
              "      <td>9</td>\n",
              "      <td>72</td>\n",
              "      <td>86</td>\n",
              "      <td>0.789841</td>\n",
              "      <td>0.680720</td>\n",
              "      <td>0</td>\n",
              "      <td>1</td>\n",
              "      <td>0</td>\n",
              "      <td>0</td>\n",
              "      <td>1</td>\n",
              "    </tr>\n",
              "    <tr>\n",
              "      <th>2</th>\n",
              "      <td>0</td>\n",
              "      <td>1540</td>\n",
              "      <td>0</td>\n",
              "      <td>1</td>\n",
              "      <td>450</td>\n",
              "      <td>34550</td>\n",
              "      <td>7</td>\n",
              "      <td>6</td>\n",
              "      <td>19</td>\n",
              "      <td>0.691712</td>\n",
              "      <td>0.531712</td>\n",
              "      <td>1</td>\n",
              "      <td>0</td>\n",
              "      <td>0</td>\n",
              "      <td>0</td>\n",
              "      <td>1</td>\n",
              "    </tr>\n",
              "    <tr>\n",
              "      <th>3</th>\n",
              "      <td>0</td>\n",
              "      <td>5230</td>\n",
              "      <td>1</td>\n",
              "      <td>1</td>\n",
              "      <td>700</td>\n",
              "      <td>42150</td>\n",
              "      <td>8</td>\n",
              "      <td>72</td>\n",
              "      <td>86</td>\n",
              "      <td>0.793179</td>\n",
              "      <td>0.692552</td>\n",
              "      <td>1</td>\n",
              "      <td>0</td>\n",
              "      <td>0</td>\n",
              "      <td>0</td>\n",
              "      <td>0</td>\n",
              "    </tr>\n",
              "    <tr>\n",
              "      <th>4</th>\n",
              "      <td>0</td>\n",
              "      <td>3590</td>\n",
              "      <td>2</td>\n",
              "      <td>1</td>\n",
              "      <td>1100</td>\n",
              "      <td>53850</td>\n",
              "      <td>12</td>\n",
              "      <td>60</td>\n",
              "      <td>98</td>\n",
              "      <td>0.688483</td>\n",
              "      <td>0.744634</td>\n",
              "      <td>1</td>\n",
              "      <td>0</td>\n",
              "      <td>0</td>\n",
              "      <td>1</td>\n",
              "      <td>0</td>\n",
              "    </tr>\n",
              "  </tbody>\n",
              "</table>\n",
              "</div>"
            ],
            "text/plain": [
              "   home_owner  income  current_address_year  ...  monthly  semi-monthly  weekly\n",
              "0           1    3135                     3  ...        0             0       0\n",
              "1           0    3180                     3  ...        0             0       1\n",
              "2           0    1540                     0  ...        0             0       1\n",
              "3           0    5230                     1  ...        0             0       0\n",
              "4           0    3590                     2  ...        0             1       0\n",
              "\n",
              "[5 rows x 16 columns]"
            ]
          },
          "metadata": {
            "tags": []
          },
          "execution_count": 219
        }
      ]
    },
    {
      "cell_type": "markdown",
      "metadata": {
        "id": "Vh-zrt_OdOKV"
      },
      "source": [
        "#### Data Transformation and Model Building"
      ]
    },
    {
      "cell_type": "code",
      "metadata": {
        "id": "cdSD2RjWdOKV"
      },
      "source": [
        "from sklearn.model_selection import train_test_split\n",
        "from sklearn.preprocessing import StandardScaler"
      ],
      "execution_count": null,
      "outputs": []
    },
    {
      "cell_type": "code",
      "metadata": {
        "id": "BEuRid8ldOKW"
      },
      "source": [
        "scale=StandardScaler()\n",
        "#Transforming the data\n",
        "X=scale.fit_transform(x)"
      ],
      "execution_count": null,
      "outputs": []
    },
    {
      "cell_type": "markdown",
      "metadata": {
        "id": "t7_vjP0adOKY"
      },
      "source": [
        "##### Splitting the Data"
      ]
    },
    {
      "cell_type": "code",
      "metadata": {
        "id": "-K_9X193dOKY"
      },
      "source": [
        "#from sklearn.model_selection import train_test_split\n",
        "xtrain,xtest,ytrain,ytest=train_test_split(X,Y,test_size=0.25,random_state=42)"
      ],
      "execution_count": null,
      "outputs": []
    },
    {
      "cell_type": "markdown",
      "metadata": {
        "id": "2gz-MA0uB4U2"
      },
      "source": [
        "##Logistic Regression"
      ]
    },
    {
      "cell_type": "code",
      "metadata": {
        "colab": {
          "base_uri": "https://localhost:8080/"
        },
        "id": "OmUkuwntA9eb",
        "outputId": "fc8c66b7-10cc-4fa5-a109-30abae50e376"
      },
      "source": [
        "from sklearn.linear_model import LogisticRegression\n",
        "from sklearn.metrics import accuracy_score\n",
        "logModel = LogisticRegression()\n",
        "logModel.fit(xtrain, ytrain)"
      ],
      "execution_count": null,
      "outputs": [
        {
          "output_type": "execute_result",
          "data": {
            "text/plain": [
              "LogisticRegression(C=1.0, class_weight=None, dual=False, fit_intercept=True,\n",
              "                   intercept_scaling=1, l1_ratio=None, max_iter=100,\n",
              "                   multi_class='auto', n_jobs=None, penalty='l2',\n",
              "                   random_state=None, solver='lbfgs', tol=0.0001, verbose=0,\n",
              "                   warm_start=False)"
            ]
          },
          "metadata": {
            "tags": []
          },
          "execution_count": 167
        }
      ]
    },
    {
      "cell_type": "code",
      "metadata": {
        "id": "_yB8jnyXBHWe"
      },
      "source": [
        "y_pred = logModel.predict(xtest)"
      ],
      "execution_count": null,
      "outputs": []
    },
    {
      "cell_type": "code",
      "metadata": {
        "colab": {
          "base_uri": "https://localhost:8080/"
        },
        "id": "m2Bb7hRLBN05",
        "outputId": "8a6bded7-d907-4e39-abda-2015337e1078"
      },
      "source": [
        "logacc = accuracy_score(ytest, y_pred)\n",
        "logacc"
      ],
      "execution_count": null,
      "outputs": [
        {
          "output_type": "execute_result",
          "data": {
            "text/plain": [
              "0.5677909314272951"
            ]
          },
          "metadata": {
            "tags": []
          },
          "execution_count": 169
        }
      ]
    },
    {
      "cell_type": "markdown",
      "metadata": {
        "id": "rvElL1ERdOKZ"
      },
      "source": [
        "## Random Forest"
      ]
    },
    {
      "cell_type": "code",
      "metadata": {
        "id": "wzdNYZ4QdOKZ"
      },
      "source": [
        "from sklearn.ensemble import RandomForestClassifier, GradientBoostingClassifier"
      ],
      "execution_count": null,
      "outputs": []
    },
    {
      "cell_type": "code",
      "metadata": {
        "id": "1-XP977FdOKb"
      },
      "source": [
        "#Initializing the object\n",
        "model2=RandomForestClassifier()"
      ],
      "execution_count": null,
      "outputs": []
    },
    {
      "cell_type": "code",
      "metadata": {
        "colab": {
          "base_uri": "https://localhost:8080/"
        },
        "id": "xKGtm3zmdOKd",
        "outputId": "7eac5117-4366-43d1-b5fd-f77be7e588b0"
      },
      "source": [
        "#Fitting the model\n",
        "model2.fit(xtrain,ytrain)"
      ],
      "execution_count": null,
      "outputs": [
        {
          "output_type": "execute_result",
          "data": {
            "text/plain": [
              "RandomForestClassifier(bootstrap=True, ccp_alpha=0.0, class_weight=None,\n",
              "                       criterion='gini', max_depth=None, max_features='auto',\n",
              "                       max_leaf_nodes=None, max_samples=None,\n",
              "                       min_impurity_decrease=0.0, min_impurity_split=None,\n",
              "                       min_samples_leaf=1, min_samples_split=2,\n",
              "                       min_weight_fraction_leaf=0.0, n_estimators=100,\n",
              "                       n_jobs=None, oob_score=False, random_state=None,\n",
              "                       verbose=0, warm_start=False)"
            ]
          },
          "metadata": {
            "tags": []
          },
          "execution_count": 133
        }
      ]
    },
    {
      "cell_type": "code",
      "metadata": {
        "id": "guAcjwoIdOKe"
      },
      "source": [
        "#Predictions on test data\n",
        "pred=model2.predict(xtest)"
      ],
      "execution_count": null,
      "outputs": []
    },
    {
      "cell_type": "code",
      "metadata": {
        "colab": {
          "base_uri": "https://localhost:8080/"
        },
        "id": "4TTF3ILCdOKe",
        "outputId": "f784b58c-16fc-4ea4-c165-b053d52b3754"
      },
      "source": [
        "accuracy_score(ytest,pred)"
      ],
      "execution_count": null,
      "outputs": [
        {
          "output_type": "execute_result",
          "data": {
            "text/plain": [
              "0.6245253517980791"
            ]
          },
          "metadata": {
            "tags": []
          },
          "execution_count": 135
        }
      ]
    },
    {
      "cell_type": "markdown",
      "metadata": {
        "id": "frvnDZ-pdOKf"
      },
      "source": [
        "### Gradient Boosting"
      ]
    },
    {
      "cell_type": "code",
      "metadata": {
        "id": "hsg9Tf3LdOKh"
      },
      "source": [
        "lr_list = [0.05, 0.075, 0.1, 0.25, 0.5, 0.75, 1]\n",
        "\n",
        "for learning_rate in lr_list:\n",
        "    gb_clf = GradientBoostingClassifier(n_estimators=500, learning_rate=learning_rate, max_features=5, max_depth=2, random_state=0)\n",
        "    gb_clf.fit(xtrain, ytrain)"
      ],
      "execution_count": null,
      "outputs": []
    },
    {
      "cell_type": "code",
      "metadata": {
        "colab": {
          "base_uri": "https://localhost:8080/"
        },
        "id": "_SVBF5I_dOKh",
        "outputId": "e930b61a-0f2f-4c35-9ddd-dc8373259e78"
      },
      "source": [
        "print(\"Learning rate: \", learning_rate)\n",
        "print(\"Accuracy score (training): {0:.3f}\".format(gb_clf.score(xtrain, ytrain)))\n",
        "print(\"Accuracy score (validation): {0:.3f}\".format(gb_clf.score(xtest, ytest)))"
      ],
      "execution_count": null,
      "outputs": [
        {
          "output_type": "stream",
          "text": [
            "Learning rate:  1\n",
            "Accuracy score (training): 0.771\n",
            "Accuracy score (validation): 0.623\n"
          ],
          "name": "stdout"
        }
      ]
    },
    {
      "cell_type": "markdown",
      "metadata": {
        "id": "Knra5R8YdOKj"
      },
      "source": [
        "### XgBoost\n",
        "\n",
        "\n"
      ]
    },
    {
      "cell_type": "code",
      "metadata": {
        "id": "uqQXsy2NdOKj"
      },
      "source": [
        "#Implementing xgboost\n",
        "from xgboost import XGBClassifier"
      ],
      "execution_count": null,
      "outputs": []
    },
    {
      "cell_type": "code",
      "metadata": {
        "colab": {
          "base_uri": "https://localhost:8080/"
        },
        "id": "0sxmwJ5JdOKk",
        "outputId": "3bb23a91-c48c-4959-bffc-ae1f0b6e6398"
      },
      "source": [
        "#Initializing the model\n",
        "xgb_clf = XGBClassifier(n_estimators=500,gamma=1)\n",
        "xgb_clf.fit(xtrain, ytrain)"
      ],
      "execution_count": null,
      "outputs": [
        {
          "output_type": "execute_result",
          "data": {
            "text/plain": [
              "XGBClassifier(base_score=0.5, booster='gbtree', colsample_bylevel=1,\n",
              "              colsample_bynode=1, colsample_bytree=1, gamma=1,\n",
              "              learning_rate=0.1, max_delta_step=0, max_depth=3,\n",
              "              min_child_weight=1, missing=None, n_estimators=500, n_jobs=1,\n",
              "              nthread=None, objective='binary:logistic', random_state=0,\n",
              "              reg_alpha=0, reg_lambda=1, scale_pos_weight=1, seed=None,\n",
              "              silent=None, subsample=1, verbosity=1)"
            ]
          },
          "metadata": {
            "tags": []
          },
          "execution_count": 200
        }
      ]
    },
    {
      "cell_type": "code",
      "metadata": {
        "colab": {
          "base_uri": "https://localhost:8080/"
        },
        "id": "zccwefNLdOKl",
        "outputId": "d7846358-dca0-433e-ca3f-ecd28418874c"
      },
      "source": [
        "score = xgb_clf.score(xtest, ytest)\n",
        "print(score)"
      ],
      "execution_count": null,
      "outputs": [
        {
          "output_type": "stream",
          "text": [
            "0.6417243689970963\n"
          ],
          "name": "stdout"
        }
      ]
    },
    {
      "cell_type": "markdown",
      "metadata": {
        "id": "AyF817kwdOKm"
      },
      "source": [
        "#### Support Vector Machine\n",
        "\n"
      ]
    },
    {
      "cell_type": "code",
      "metadata": {
        "colab": {
          "base_uri": "https://localhost:8080/"
        },
        "id": "TvrRuHhPdOKn",
        "outputId": "e14a72fe-4123-4d07-beb9-c9403d66b56a"
      },
      "source": [
        "from sklearn.svm import SVC\n",
        "classifier = SVC(random_state = 0, kernel = 'rbf')\n",
        "classifier.fit(xtrain, ytrain)"
      ],
      "execution_count": null,
      "outputs": [
        {
          "output_type": "execute_result",
          "data": {
            "text/plain": [
              "SVC(C=1.0, break_ties=False, cache_size=200, class_weight=None, coef0=0.0,\n",
              "    decision_function_shape='ovr', degree=3, gamma='scale', kernel='rbf',\n",
              "    max_iter=-1, probability=False, random_state=0, shrinking=True, tol=0.001,\n",
              "    verbose=False)"
            ]
          },
          "metadata": {
            "tags": []
          },
          "execution_count": 163
        }
      ]
    },
    {
      "cell_type": "code",
      "metadata": {
        "id": "wUBpHcqidOKo"
      },
      "source": [
        "# Predicting Test Set\n",
        "y_pred = classifier.predict(xtest)"
      ],
      "execution_count": null,
      "outputs": []
    },
    {
      "cell_type": "code",
      "metadata": {
        "colab": {
          "base_uri": "https://localhost:8080/"
        },
        "id": "elIglmogdOKp",
        "outputId": "244cf893-c86f-42c7-ef35-2ab84a08abcb"
      },
      "source": [
        "#Finding the Accuracy Score\n",
        "acc = accuracy_score(ytest, y_pred)\n",
        "acc"
      ],
      "execution_count": null,
      "outputs": [
        {
          "output_type": "execute_result",
          "data": {
            "text/plain": [
              "0.6026356935447844"
            ]
          },
          "metadata": {
            "tags": []
          },
          "execution_count": 165
        }
      ]
    },
    {
      "cell_type": "code",
      "metadata": {
        "colab": {
          "base_uri": "https://localhost:8080/"
        },
        "id": "-Zy9K64bH_AV",
        "outputId": "d3d09f45-97ab-473d-c2f8-ad82aed19057"
      },
      "source": [
        "from xgboost import plot_importance\n",
        "xgb_clf.feature_importances_"
      ],
      "execution_count": null,
      "outputs": [
        {
          "output_type": "execute_result",
          "data": {
            "text/plain": [
              "array([0.09314162, 0.06050942, 0.03984164, 0.07395456, 0.14694811,\n",
              "       0.07051175, 0.0366752 , 0.03939145, 0.1028946 , 0.04125661,\n",
              "       0.03707824, 0.13937621, 0.        , 0.03600062, 0.04486239,\n",
              "       0.03755758], dtype=float32)"
            ]
          },
          "metadata": {
            "tags": []
          },
          "execution_count": 206
        }
      ]
    },
    {
      "cell_type": "code",
      "metadata": {
        "colab": {
          "base_uri": "https://localhost:8080/",
          "height": 282
        },
        "id": "m8NLVRovJ-SO",
        "outputId": "9c92ba58-0694-4eee-bdf7-acb3f428ad20"
      },
      "source": [
        "plt.barh(x.columns, xgb_clf.feature_importances_)"
      ],
      "execution_count": null,
      "outputs": [
        {
          "output_type": "execute_result",
          "data": {
            "text/plain": [
              "<BarContainer object of 16 artists>"
            ]
          },
          "metadata": {
            "tags": []
          },
          "execution_count": 222
        },
        {
          "output_type": "display_data",
          "data": {
            "image/png": "[encoded data removed]",
            "text/plain": [
              "<Figure size 432x288 with 1 Axes>"
            ]
          },
          "metadata": {
            "tags": [],
            "needs_background": "light"
          }
        }
      ]
    },
    {
      "cell_type": "markdown",
      "metadata": {
        "id": "ZvW09KZwdOKr"
      },
      "source": [
        "\n",
        "<br>\n",
        "<h4><font color=\"blue\">Models implemented:</font></h4>\n",
        "\n",
        "<ul>\n",
        "    <li>Artificial Neural Network</li>\n",
        "    <li>Random Forest Classifier</li>\n",
        "    <li>Gradient Boosting</li>\n",
        "    <li>Support Vector Machine</li>\n",
        "    <li>Xg Boost</li>\n",
        "    <li>Logistic Regression</li>\n",
        "</ul>"
      ]
    },
    {
      "cell_type": "markdown",
      "metadata": {
        "id": "TMdNSYEGdOKs"
      },
      "source": [
        "<h2><font color=\"blue\"><b>Observation</b></font><h2>\n",
        "    \n",
        " <ul>\n",
        "    <li>XgBoost Algorithm performs the best and give the accuracy of 64 %</li>\n",
        "    <li>We see that the ANN with no feature engineering performs far better than SVM, Random Forest with feature engineering</li>\n",
        "    <li>Though we didnt get very high accuracy but this can help the banks in knowing whether the customer is risky or not.</li>\n",
        "</ul>"
      ]
    },
    {
      "cell_type": "markdown",
      "metadata": {
        "id": "TrmO0p-uME4M"
      },
      "source": [
        "Reference\n",
        "\n",
        "https://www.financialexpress.com/money/what-is-e-sign-and-how-it-can-help-manage-your-personal-finance-better-all-you-need-to-know/950129/"
      ]
    }
  ]
}